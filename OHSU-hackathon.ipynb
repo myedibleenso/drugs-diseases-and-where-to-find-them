{
 "cells": [
  {
   "cell_type": "code",
   "execution_count": 1,
   "metadata": {
    "collapsed": false
   },
   "outputs": [
    {
     "name": "stdout",
     "output_type": "stream",
     "text": [
      "3.0.3\n"
     ]
    }
   ],
   "source": [
    "import processors\n",
    "print(processors.__version__)"
   ]
  },
  {
   "cell_type": "code",
   "execution_count": null,
   "metadata": {
    "collapsed": true
   },
   "outputs": [],
   "source": [
    "from json import *"
   ]
  },
  {
   "cell_type": "code",
   "execution_count": 2,
   "metadata": {
    "collapsed": false
   },
   "outputs": [
    {
     "name": "stderr",
     "output_type": "stream",
     "text": [
      "INFO - Connection with server established!\n",
      "INFO - Server version meets recommendations (v3.0.2)\n"
     ]
    }
   ],
   "source": [
    "from processors import *\n",
    "from processors.visualization import JupyterVisualizer as viz\n",
    "\n",
    "API = ProcessorsAPI(port=8881, keep_alive=True, jar_path = \"/Users/manningh/miniconda3/lib/python3.5/site-packages/processors/processors-server.jar\")"
   ]
  },
  {
   "cell_type": "code",
   "execution_count": 6,
   "metadata": {
    "collapsed": true
   },
   "outputs": [],
   "source": [
    "import os\n",
    "\n",
    "# abstracts_dir = \"/Users/gus/repos/ohsu-hackathon/OHSU_NLP_Hackathon/sentences_and_abstracts/CIViC_abstracts\"\n",
    "abstracts_dir = \"/Users/manningh/PycharmProjects/OHSU_NLP_Hackathon/sentences_and_abstracts/CIViC_abstracts\"\n",
    "serialized_documents_dir = \"/Users/manningh/PycharmProjects/OHSU_NLP_Hackathon/sensitivity-and-adverse-outcomes/serialized-abstracts\"\n",
    "\n",
    "def annotate_documents(collection_dir):\n",
    "    for f in os.listdir(collection_dir):\n",
    "        file_path = os.path.join(collection_dir, f)\n",
    "        text = open(file_path).read()\n",
    "        doc = API.bionlp.annotate(text) \n",
    "        # use filename as the doc's id\n",
    "        doc.id = os.path.splitext(f)[0]\n",
    "        yield doc"
   ]
  },
  {
   "cell_type": "code",
   "execution_count": 5,
   "metadata": {
    "collapsed": true
   },
   "outputs": [],
   "source": [
    "#docs = annotate_documents(abstracts_dir)"
   ]
  },
  {
   "cell_type": "code",
   "execution_count": 9,
   "metadata": {
    "collapsed": true
   },
   "outputs": [],
   "source": [
    "def serialize_documents(collection):\n",
    "    for doc in collection:\n",
    "        #doc.id = os.path.splitext(doc.id)[0]\n",
    "        with open(\"{}.json\".format(doc.id), \"w\") as out_file:\n",
    "            out_file.write(doc.to_JSON())"
   ]
  },
  {
   "cell_type": "code",
   "execution_count": 10,
   "metadata": {
    "collapsed": true
   },
   "outputs": [],
   "source": [
    "#serialize_documents(docs)"
   ]
  },
  {
   "cell_type": "code",
   "execution_count": 11,
   "metadata": {
    "collapsed": true
   },
   "outputs": [],
   "source": [
    "import json\n",
    "\n",
    "def deserialize_doc_collection(serialized_docs_dir):\n",
    "    for json_file in os.listdir(serialized_docs_dir):\n",
    "        fpath = os.path.join(serialized_docs_dir, json_file)\n",
    "        with open(fpath) as infile:\n",
    "            text = infile.read()\n",
    "        doc_dict = json.loads(text)\n",
    "        doc = Document.load_from_JSON(doc_dict)\n",
    "        # FIXED, but not released (ADD TEST)\n",
    "        # py-processors v3.0.3 wasn't retrieving the doc id\n",
    "        doc.id = os.path.splitext(json_file)[0]\n",
    "        yield doc"
   ]
  },
  {
   "cell_type": "code",
   "execution_count": 12,
   "metadata": {
    "collapsed": false
   },
   "outputs": [],
   "source": [
    "abstracts = list(deserialize_doc_collection(serialized_documents_dir))"
   ]
  },
  {
   "cell_type": "code",
   "execution_count": 13,
   "metadata": {
    "collapsed": true
   },
   "outputs": [],
   "source": [
    "rules = open(\"rules.yml\", \"r\")\n",
    "\n",
    "def extract_from_collection(collection):\n",
    "    for doc in collection:\n",
    "        mentions = API.odin.extract_from_document(doc, rules)\n",
    "        for m in sorted(mentions, key=lambda x: (x.document.id, x.sentence, x.start), reverse=False):\n",
    "            yield m"
   ]
  },
  {
   "cell_type": "code",
   "execution_count": 14,
   "metadata": {
    "collapsed": false
   },
   "outputs": [],
   "source": [
    "def display_mentions(mentions):\n",
    "    for m in mentions:\n",
    "        print(m.document.id)\n",
    "        viz.display_mention(m)"
   ]
  },
  {
   "cell_type": "code",
   "execution_count": 15,
   "metadata": {
    "collapsed": true
   },
   "outputs": [],
   "source": [
    "mentions = extract_from_collection(abstracts)"
   ]
  },
  {
   "cell_type": "code",
   "execution_count": null,
   "metadata": {
    "collapsed": true
   },
   "outputs": [],
   "source": [
    "#API.stop_server()"
   ]
  },
  {
   "cell_type": "code",
   "execution_count": null,
   "metadata": {
    "collapsed": true
   },
   "outputs": [],
   "source": []
  },
  {
   "cell_type": "code",
   "execution_count": null,
   "metadata": {
    "collapsed": true
   },
   "outputs": [],
   "source": []
  },
  {
   "cell_type": "code",
   "execution_count": null,
   "metadata": {
    "collapsed": false
   },
   "outputs": [],
   "source": []
  },
  {
   "cell_type": "code",
   "execution_count": null,
   "metadata": {
    "collapsed": true
   },
   "outputs": [],
   "source": []
  }
 ],
 "metadata": {
  "kernelspec": {
   "display_name": "Python 3",
   "language": "python",
   "name": "python3"
  },
  "language_info": {
   "codemirror_mode": {
    "name": "ipython",
    "version": 3
   },
   "file_extension": ".py",
   "mimetype": "text/x-python",
   "name": "python",
   "nbconvert_exporter": "python",
   "pygments_lexer": "ipython3",
   "version": "3.5.2"
  }
 },
 "nbformat": 4,
 "nbformat_minor": 2
}
