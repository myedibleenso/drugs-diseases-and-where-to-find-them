{
 "cells": [
  {
   "cell_type": "code",
   "execution_count": 1,
   "metadata": {
    "collapsed": false
   },
   "outputs": [
    {
     "name": "stdout",
     "output_type": "stream",
     "text": [
      "3.0.3\n"
     ]
    }
   ],
   "source": [
    "import processors\n",
    "print(processors.__version__)"
   ]
  },
  {
   "cell_type": "code",
   "execution_count": null,
   "metadata": {
    "collapsed": true
   },
   "outputs": [],
   "source": []
  },
  {
   "cell_type": "code",
   "execution_count": 2,
   "metadata": {
    "collapsed": false
   },
   "outputs": [
    {
     "name": "stderr",
     "output_type": "stream",
     "text": [
      "INFO - Using path given via $PROCESSORS_SERVER\n",
      "INFO - Connection with server established!\n",
      "INFO - Server version meets recommendations (v3.0.2)\n"
     ]
    }
   ],
   "source": [
    "from processors import *\n",
    "from processors.visualization import JupyterVisualizer as viz\n",
    "\n",
    "API = ProcessorsAPI(port=8881, keep_alive=True)"
   ]
  },
  {
   "cell_type": "code",
   "execution_count": 7,
   "metadata": {
    "collapsed": false
   },
   "outputs": [],
   "source": [
    "import os\n",
    "\n",
    "# abstracts_dir = \"/Users/gus/repos/ohsu-hackathon/OHSU_NLP_Hackathon/sentences_and_abstracts/CIViC_abstracts\"\n",
    "abstracts_dir = \"/Users/manningh/PycharmProjects/OHSU_NLP_Hackathon/sentences_and_abstracts/CIViC_abstracts\"\n",
    "serialized_documents_dir = \"/Users/manningh/PycharmProjects/odin-drug-outcomes/sensitivity-and-adverse-outcomes/serialized-abstracts\"\n",
    "\n",
    "def annotate_documents(collection_dir):\n",
    "    for f in os.listdir(collection_dir):\n",
    "        file_path = os.path.join(collection_dir, f)\n",
    "        text = open(file_path).read()\n",
    "        doc = API.bionlp.annotate(text) \n",
    "        # use filename as the doc's id\n",
    "        doc.id = os.path.splitext(f)[0]\n",
    "        yield doc"
   ]
  },
  {
   "cell_type": "code",
   "execution_count": 8,
   "metadata": {
    "collapsed": true
   },
   "outputs": [],
   "source": [
    "#docs = annotate_documents(abstracts_dir)"
   ]
  },
  {
   "cell_type": "code",
   "execution_count": 9,
   "metadata": {
    "collapsed": true
   },
   "outputs": [],
   "source": [
    "def serialize_documents(collection):\n",
    "    for doc in collection:\n",
    "        #doc.id = os.path.splitext(doc.id)[0]\n",
    "        with open(\"{}.json\".format(doc.id), \"w\") as out_file:\n",
    "            out_file.write(doc.to_JSON())"
   ]
  },
  {
   "cell_type": "code",
   "execution_count": 10,
   "metadata": {
    "collapsed": true
   },
   "outputs": [],
   "source": [
    "#serialize_documents(docs)"
   ]
  },
  {
   "cell_type": "code",
   "execution_count": 11,
   "metadata": {
    "collapsed": true
   },
   "outputs": [],
   "source": [
    "import json\n",
    "\n",
    "def deserialize_doc_collection(serialized_docs_dir):\n",
    "    for json_file in os.listdir(serialized_docs_dir):\n",
    "        fpath = os.path.join(serialized_docs_dir, json_file)\n",
    "        with open(fpath) as infile:\n",
    "            text = infile.read()\n",
    "        doc_dict = json.loads(text)\n",
    "        doc = Document.load_from_JSON(doc_dict)\n",
    "        # FIXED, but not released (ADD TEST)\n",
    "        # py-processors v3.0.3 wasn't retrieving the doc id\n",
    "        doc.id = os.path.splitext(json_file)[0]\n",
    "        yield doc"
   ]
  },
  {
   "cell_type": "code",
   "execution_count": 12,
   "metadata": {
    "collapsed": false
   },
   "outputs": [],
   "source": [
    "abstracts = list(deserialize_doc_collection(serialized_documents_dir))"
   ]
  },
  {
   "cell_type": "code",
   "execution_count": 19,
   "metadata": {
    "collapsed": true
   },
   "outputs": [],
   "source": [
    "rules = open(\"rules.yml\", \"r\").read()\n",
    "\n",
    "def extract_from_collection(collection):\n",
    "    for doc in collection:\n",
    "        mentions = API.odin.extract_from_document(doc, rules)\n",
    "        for m in sorted(mentions, key=lambda x: (x.document.id, x.sentence, x.start), reverse=False):\n",
    "            yield m"
   ]
  },
  {
   "cell_type": "code",
   "execution_count": 20,
   "metadata": {
    "collapsed": false
   },
   "outputs": [],
   "source": [
    "def display_mentions(mentions):\n",
    "    for m in mentions:\n",
    "        print(m.document.id)\n",
    "        viz.display_mention(m)"
   ]
  },
  {
   "cell_type": "code",
   "execution_count": 23,
   "metadata": {
    "collapsed": false
   },
   "outputs": [],
   "source": [
    "# mentions = extract_from_collections(abstracts)\n",
    "\n",
    "# only grabbing abstracts which contain words ending in 'ib ' for hannah's druggy purposes\n",
    "collection_subset = [doc for doc in abstracts if 'ib ' in doc.text]\n",
    "mentions = list(extract_from_collection(collection_subset[:10]))"
   ]
  },
  {
   "cell_type": "code",
   "execution_count": null,
   "metadata": {
    "collapsed": true
   },
   "outputs": [],
   "source": [
    "#API.stop_server()"
   ]
  },
  {
   "cell_type": "code",
   "execution_count": 25,
   "metadata": {
    "collapsed": false
   },
   "outputs": [
    {
     "name": "stdout",
     "output_type": "stream",
     "text": [
      "None\n"
     ]
    },
    {
     "data": {
      "text/html": [
       "<style>.sentence {\n",
       "   font-family:\"Liberation Mono\",monospace;\n",
       "   color: #3e3f41;\n",
       "   font-size: 1em;\n",
       "   padding-bottom: 3px;\n",
       " }\n",
       " .mention-label {\n",
       "   -webkit-font-smoothing: subpixel-antialiased;\n",
       "   color: white;\n",
       "   font-weight:bold;\n",
       "   padding-left: 4px;\n",
       "   padding-right: 4px;\n",
       " }\n",
       " .mention-role {\n",
       "   -webkit-font-smoothing: subpixel-antialiased;\n",
       "   color: #ff0000;\n",
       "   font-weight:bold;\n",
       "   padding-left: 4px;\n",
       "   padding-right: 4px;\n",
       " }\n",
       " .mention-span {\n",
       "   border-radius: 50px;\n",
       "   background-color: #ffa64d;\n",
       "   -webkit-font-smoothing: subpixel-antialiased;\n",
       "   color: black;\n",
       "   padding-top: 4px;\n",
       "   padding-bottom: 4px;\n",
       "   padding-left: 4px;\n",
       "   padding-right: 8px;\n",
       " }\n",
       " .mention-arg {\n",
       "   font-weight:bold;\n",
       "   background-color:#009933;\n",
       "   color: white;\n",
       "   padding-top: 4px;\n",
       "   padding-bottom: 4px;\n",
       "   padding-left: 4px;\n",
       "   padding-right: 8px;\n",
       " }\n",
       " .mention-trigger {\n",
       "   font-weight:bold;\n",
       "   background-color:#0066ff;\n",
       "   color: white;\n",
       "   padding-top: 4px;\n",
       "   padding-bottom: 4px;\n",
       "   padding-left: 8px;\n",
       "   padding-right: 8px;\n",
       " }\n",
       "</style><span class=\"sentence\">Support for this has only been strengthened by the observations that resistance to <span class=\"mention-span sentence\"><sub class=\"mention-label\">Drug</sub>imatinib</span> mesylate ( imatinib ) commonly involves a breakthrough and the persistent activity of Bcr-Abl TK .</span>"
      ],
      "text/plain": [
       "<IPython.core.display.HTML object>"
      ]
     },
     "metadata": {},
     "output_type": "display_data"
    },
    {
     "name": "stdout",
     "output_type": "stream",
     "text": [
      "None\n"
     ]
    },
    {
     "data": {
      "text/html": [
       "<style>.sentence {\n",
       "   font-family:\"Liberation Mono\",monospace;\n",
       "   color: #3e3f41;\n",
       "   font-size: 1em;\n",
       "   padding-bottom: 3px;\n",
       " }\n",
       " .mention-label {\n",
       "   -webkit-font-smoothing: subpixel-antialiased;\n",
       "   color: white;\n",
       "   font-weight:bold;\n",
       "   padding-left: 4px;\n",
       "   padding-right: 4px;\n",
       " }\n",
       " .mention-role {\n",
       "   -webkit-font-smoothing: subpixel-antialiased;\n",
       "   color: #ff0000;\n",
       "   font-weight:bold;\n",
       "   padding-left: 4px;\n",
       "   padding-right: 4px;\n",
       " }\n",
       " .mention-span {\n",
       "   border-radius: 50px;\n",
       "   background-color: #ffa64d;\n",
       "   -webkit-font-smoothing: subpixel-antialiased;\n",
       "   color: black;\n",
       "   padding-top: 4px;\n",
       "   padding-bottom: 4px;\n",
       "   padding-left: 4px;\n",
       "   padding-right: 8px;\n",
       " }\n",
       " .mention-arg {\n",
       "   font-weight:bold;\n",
       "   background-color:#009933;\n",
       "   color: white;\n",
       "   padding-top: 4px;\n",
       "   padding-bottom: 4px;\n",
       "   padding-left: 4px;\n",
       "   padding-right: 8px;\n",
       " }\n",
       " .mention-trigger {\n",
       "   font-weight:bold;\n",
       "   background-color:#0066ff;\n",
       "   color: white;\n",
       "   padding-top: 4px;\n",
       "   padding-bottom: 4px;\n",
       "   padding-left: 8px;\n",
       "   padding-right: 8px;\n",
       " }\n",
       "</style><span class=\"sentence\">Support for this has only been strengthened by the observations that resistance to imatinib mesylate ( <span class=\"mention-span sentence\"><sub class=\"mention-label\">Drug</sub>imatinib</span> ) commonly involves a breakthrough and the persistent activity of Bcr-Abl TK .</span>"
      ],
      "text/plain": [
       "<IPython.core.display.HTML object>"
      ]
     },
     "metadata": {},
     "output_type": "display_data"
    },
    {
     "name": "stdout",
     "output_type": "stream",
     "text": [
      "None\n"
     ]
    },
    {
     "data": {
      "text/html": [
       "<style>.sentence {\n",
       "   font-family:\"Liberation Mono\",monospace;\n",
       "   color: #3e3f41;\n",
       "   font-size: 1em;\n",
       "   padding-bottom: 3px;\n",
       " }\n",
       " .mention-label {\n",
       "   -webkit-font-smoothing: subpixel-antialiased;\n",
       "   color: white;\n",
       "   font-weight:bold;\n",
       "   padding-left: 4px;\n",
       "   padding-right: 4px;\n",
       " }\n",
       " .mention-role {\n",
       "   -webkit-font-smoothing: subpixel-antialiased;\n",
       "   color: #ff0000;\n",
       "   font-weight:bold;\n",
       "   padding-left: 4px;\n",
       "   padding-right: 4px;\n",
       " }\n",
       " .mention-span {\n",
       "   border-radius: 50px;\n",
       "   background-color: #ffa64d;\n",
       "   -webkit-font-smoothing: subpixel-antialiased;\n",
       "   color: black;\n",
       "   padding-top: 4px;\n",
       "   padding-bottom: 4px;\n",
       "   padding-left: 4px;\n",
       "   padding-right: 8px;\n",
       " }\n",
       " .mention-arg {\n",
       "   font-weight:bold;\n",
       "   background-color:#009933;\n",
       "   color: white;\n",
       "   padding-top: 4px;\n",
       "   padding-bottom: 4px;\n",
       "   padding-left: 4px;\n",
       "   padding-right: 8px;\n",
       " }\n",
       " .mention-trigger {\n",
       "   font-weight:bold;\n",
       "   background-color:#0066ff;\n",
       "   color: white;\n",
       "   padding-top: 4px;\n",
       "   padding-bottom: 4px;\n",
       "   padding-left: 8px;\n",
       "   padding-right: 8px;\n",
       " }\n",
       "</style><span class=\"sentence\">This is due to either mutations that inhibit <span class=\"mention-span sentence\"><sub class=\"mention-label\">Drug</sub>imatinib</span> action on Bcr-Abl TK or amplification of the bcr-abl gene .</span>"
      ],
      "text/plain": [
       "<IPython.core.display.HTML object>"
      ]
     },
     "metadata": {},
     "output_type": "display_data"
    },
    {
     "name": "stdout",
     "output_type": "stream",
     "text": [
      "None\n"
     ]
    },
    {
     "data": {
      "text/html": [
       "<style>.sentence {\n",
       "   font-family:\"Liberation Mono\",monospace;\n",
       "   color: #3e3f41;\n",
       "   font-size: 1em;\n",
       "   padding-bottom: 3px;\n",
       " }\n",
       " .mention-label {\n",
       "   -webkit-font-smoothing: subpixel-antialiased;\n",
       "   color: white;\n",
       "   font-weight:bold;\n",
       "   padding-left: 4px;\n",
       "   padding-right: 4px;\n",
       " }\n",
       " .mention-role {\n",
       "   -webkit-font-smoothing: subpixel-antialiased;\n",
       "   color: #ff0000;\n",
       "   font-weight:bold;\n",
       "   padding-left: 4px;\n",
       "   padding-right: 4px;\n",
       " }\n",
       " .mention-span {\n",
       "   border-radius: 50px;\n",
       "   background-color: #ffa64d;\n",
       "   -webkit-font-smoothing: subpixel-antialiased;\n",
       "   color: black;\n",
       "   padding-top: 4px;\n",
       "   padding-bottom: 4px;\n",
       "   padding-left: 4px;\n",
       "   padding-right: 8px;\n",
       " }\n",
       " .mention-arg {\n",
       "   font-weight:bold;\n",
       "   background-color:#009933;\n",
       "   color: white;\n",
       "   padding-top: 4px;\n",
       "   padding-bottom: 4px;\n",
       "   padding-left: 4px;\n",
       "   padding-right: 8px;\n",
       " }\n",
       " .mention-trigger {\n",
       "   font-weight:bold;\n",
       "   background-color:#0066ff;\n",
       "   color: white;\n",
       "   padding-top: 4px;\n",
       "   padding-bottom: 4px;\n",
       "   padding-left: 8px;\n",
       "   padding-right: 8px;\n",
       " }\n",
       "</style><span class=\"sentence\">Recent studies have demonstrated that other small molecule tyrosine kinase inhibitors that also inhibit Bcr-Abl TK may be highly active in inducing differentiation and apoptosis of CML progenitors , regardless of their sensitivity to <span class=\"mention-span sentence\"><sub class=\"mention-label\">Drug</sub>imatinib</span> .</span>"
      ],
      "text/plain": [
       "<IPython.core.display.HTML object>"
      ]
     },
     "metadata": {},
     "output_type": "display_data"
    },
    {
     "name": "stdout",
     "output_type": "stream",
     "text": [
      "None\n"
     ]
    },
    {
     "data": {
      "text/html": [
       "<style>.sentence {\n",
       "   font-family:\"Liberation Mono\",monospace;\n",
       "   color: #3e3f41;\n",
       "   font-size: 1em;\n",
       "   padding-bottom: 3px;\n",
       " }\n",
       " .mention-label {\n",
       "   -webkit-font-smoothing: subpixel-antialiased;\n",
       "   color: white;\n",
       "   font-weight:bold;\n",
       "   padding-left: 4px;\n",
       "   padding-right: 4px;\n",
       " }\n",
       " .mention-role {\n",
       "   -webkit-font-smoothing: subpixel-antialiased;\n",
       "   color: #ff0000;\n",
       "   font-weight:bold;\n",
       "   padding-left: 4px;\n",
       "   padding-right: 4px;\n",
       " }\n",
       " .mention-span {\n",
       "   border-radius: 50px;\n",
       "   background-color: #ffa64d;\n",
       "   -webkit-font-smoothing: subpixel-antialiased;\n",
       "   color: black;\n",
       "   padding-top: 4px;\n",
       "   padding-bottom: 4px;\n",
       "   padding-left: 4px;\n",
       "   padding-right: 8px;\n",
       " }\n",
       " .mention-arg {\n",
       "   font-weight:bold;\n",
       "   background-color:#009933;\n",
       "   color: white;\n",
       "   padding-top: 4px;\n",
       "   padding-bottom: 4px;\n",
       "   padding-left: 4px;\n",
       "   padding-right: 8px;\n",
       " }\n",
       " .mention-trigger {\n",
       "   font-weight:bold;\n",
       "   background-color:#0066ff;\n",
       "   color: white;\n",
       "   padding-top: 4px;\n",
       "   padding-bottom: 4px;\n",
       "   padding-left: 8px;\n",
       "   padding-right: 8px;\n",
       " }\n",
       "</style><span class=\"sentence\">Finally the identification of other potent survival and antiapoptotic signaling pathways in <span class=\"mention-span sentence\"><sub class=\"mention-label\">Drug</sub>imatinib</span> resistant CML progenitors indicates that inhibitors of these pathways will eventually be treatment strategies for advanced phases of CML .</span>"
      ],
      "text/plain": [
       "<IPython.core.display.HTML object>"
      ]
     },
     "metadata": {},
     "output_type": "display_data"
    },
    {
     "name": "stdout",
     "output_type": "stream",
     "text": [
      "None\n"
     ]
    },
    {
     "data": {
      "text/html": [
       "<style>.sentence {\n",
       "   font-family:\"Liberation Mono\",monospace;\n",
       "   color: #3e3f41;\n",
       "   font-size: 1em;\n",
       "   padding-bottom: 3px;\n",
       " }\n",
       " .mention-label {\n",
       "   -webkit-font-smoothing: subpixel-antialiased;\n",
       "   color: white;\n",
       "   font-weight:bold;\n",
       "   padding-left: 4px;\n",
       "   padding-right: 4px;\n",
       " }\n",
       " .mention-role {\n",
       "   -webkit-font-smoothing: subpixel-antialiased;\n",
       "   color: #ff0000;\n",
       "   font-weight:bold;\n",
       "   padding-left: 4px;\n",
       "   padding-right: 4px;\n",
       " }\n",
       " .mention-span {\n",
       "   border-radius: 50px;\n",
       "   background-color: #ffa64d;\n",
       "   -webkit-font-smoothing: subpixel-antialiased;\n",
       "   color: black;\n",
       "   padding-top: 4px;\n",
       "   padding-bottom: 4px;\n",
       "   padding-left: 4px;\n",
       "   padding-right: 8px;\n",
       " }\n",
       " .mention-arg {\n",
       "   font-weight:bold;\n",
       "   background-color:#009933;\n",
       "   color: white;\n",
       "   padding-top: 4px;\n",
       "   padding-bottom: 4px;\n",
       "   padding-left: 4px;\n",
       "   padding-right: 8px;\n",
       " }\n",
       " .mention-trigger {\n",
       "   font-weight:bold;\n",
       "   background-color:#0066ff;\n",
       "   color: white;\n",
       "   padding-top: 4px;\n",
       "   padding-bottom: 4px;\n",
       "   padding-left: 8px;\n",
       "   padding-right: 8px;\n",
       " }\n",
       "</style><span class=\"sentence\">Recent reports of responses to imatinib in patients with the syndrome suggested that an activated kinase such as ABL , platelet derived growth factor receptor ( PDGFR ) , or KIT , all of which are inhibited by <span class=\"mention-span sentence\"><sub class=\"mention-label\">Drug</sub>imatinib</span> , might be the cause .</span>"
      ],
      "text/plain": [
       "<IPython.core.display.HTML object>"
      ]
     },
     "metadata": {},
     "output_type": "display_data"
    },
    {
     "name": "stdout",
     "output_type": "stream",
     "text": [
      "None\n"
     ]
    },
    {
     "data": {
      "text/html": [
       "<style>.sentence {\n",
       "   font-family:\"Liberation Mono\",monospace;\n",
       "   color: #3e3f41;\n",
       "   font-size: 1em;\n",
       "   padding-bottom: 3px;\n",
       " }\n",
       " .mention-label {\n",
       "   -webkit-font-smoothing: subpixel-antialiased;\n",
       "   color: white;\n",
       "   font-weight:bold;\n",
       "   padding-left: 4px;\n",
       "   padding-right: 4px;\n",
       " }\n",
       " .mention-role {\n",
       "   -webkit-font-smoothing: subpixel-antialiased;\n",
       "   color: #ff0000;\n",
       "   font-weight:bold;\n",
       "   padding-left: 4px;\n",
       "   padding-right: 4px;\n",
       " }\n",
       " .mention-span {\n",
       "   border-radius: 50px;\n",
       "   background-color: #ffa64d;\n",
       "   -webkit-font-smoothing: subpixel-antialiased;\n",
       "   color: black;\n",
       "   padding-top: 4px;\n",
       "   padding-bottom: 4px;\n",
       "   padding-left: 4px;\n",
       "   padding-right: 8px;\n",
       " }\n",
       " .mention-arg {\n",
       "   font-weight:bold;\n",
       "   background-color:#009933;\n",
       "   color: white;\n",
       "   padding-top: 4px;\n",
       "   padding-bottom: 4px;\n",
       "   padding-left: 4px;\n",
       "   padding-right: 8px;\n",
       " }\n",
       " .mention-trigger {\n",
       "   font-weight:bold;\n",
       "   background-color:#0066ff;\n",
       "   color: white;\n",
       "   padding-top: 4px;\n",
       "   padding-bottom: 4px;\n",
       "   padding-left: 8px;\n",
       "   padding-right: 8px;\n",
       " }\n",
       "</style><span class=\"sentence\">METHODS : We treated 11 patients with the hypereosinophilic syndrome with <span class=\"mention-span sentence\"><sub class=\"mention-label\">Drug</sub>imatinib</span> and identified the molecular basis for the response .</span>"
      ],
      "text/plain": [
       "<IPython.core.display.HTML object>"
      ]
     },
     "metadata": {},
     "output_type": "display_data"
    },
    {
     "name": "stdout",
     "output_type": "stream",
     "text": [
      "None\n"
     ]
    },
    {
     "data": {
      "text/html": [
       "<style>.sentence {\n",
       "   font-family:\"Liberation Mono\",monospace;\n",
       "   color: #3e3f41;\n",
       "   font-size: 1em;\n",
       "   padding-bottom: 3px;\n",
       " }\n",
       " .mention-label {\n",
       "   -webkit-font-smoothing: subpixel-antialiased;\n",
       "   color: white;\n",
       "   font-weight:bold;\n",
       "   padding-left: 4px;\n",
       "   padding-right: 4px;\n",
       " }\n",
       " .mention-role {\n",
       "   -webkit-font-smoothing: subpixel-antialiased;\n",
       "   color: #ff0000;\n",
       "   font-weight:bold;\n",
       "   padding-left: 4px;\n",
       "   padding-right: 4px;\n",
       " }\n",
       " .mention-span {\n",
       "   border-radius: 50px;\n",
       "   background-color: #ffa64d;\n",
       "   -webkit-font-smoothing: subpixel-antialiased;\n",
       "   color: black;\n",
       "   padding-top: 4px;\n",
       "   padding-bottom: 4px;\n",
       "   padding-left: 4px;\n",
       "   padding-right: 8px;\n",
       " }\n",
       " .mention-arg {\n",
       "   font-weight:bold;\n",
       "   background-color:#009933;\n",
       "   color: white;\n",
       "   padding-top: 4px;\n",
       "   padding-bottom: 4px;\n",
       "   padding-left: 4px;\n",
       "   padding-right: 8px;\n",
       " }\n",
       " .mention-trigger {\n",
       "   font-weight:bold;\n",
       "   background-color:#0066ff;\n",
       "   color: white;\n",
       "   padding-top: 4px;\n",
       "   padding-bottom: 4px;\n",
       "   padding-left: 8px;\n",
       "   padding-right: 8px;\n",
       " }\n",
       "</style><span class=\"sentence\">RESULTS : Nine of the 11 patients treated with <span class=\"mention-span sentence\"><sub class=\"mention-label\">Drug</sub>imatinib</span> had responses lasting more than three months in which the eosinophil count returned to normal .</span>"
      ],
      "text/plain": [
       "<IPython.core.display.HTML object>"
      ]
     },
     "metadata": {},
     "output_type": "display_data"
    },
    {
     "name": "stdout",
     "output_type": "stream",
     "text": [
      "None\n"
     ]
    },
    {
     "data": {
      "text/html": [
       "<style>.sentence {\n",
       "   font-family:\"Liberation Mono\",monospace;\n",
       "   color: #3e3f41;\n",
       "   font-size: 1em;\n",
       "   padding-bottom: 3px;\n",
       " }\n",
       " .mention-label {\n",
       "   -webkit-font-smoothing: subpixel-antialiased;\n",
       "   color: white;\n",
       "   font-weight:bold;\n",
       "   padding-left: 4px;\n",
       "   padding-right: 4px;\n",
       " }\n",
       " .mention-role {\n",
       "   -webkit-font-smoothing: subpixel-antialiased;\n",
       "   color: #ff0000;\n",
       "   font-weight:bold;\n",
       "   padding-left: 4px;\n",
       "   padding-right: 4px;\n",
       " }\n",
       " .mention-span {\n",
       "   border-radius: 50px;\n",
       "   background-color: #ffa64d;\n",
       "   -webkit-font-smoothing: subpixel-antialiased;\n",
       "   color: black;\n",
       "   padding-top: 4px;\n",
       "   padding-bottom: 4px;\n",
       "   padding-left: 4px;\n",
       "   padding-right: 8px;\n",
       " }\n",
       " .mention-arg {\n",
       "   font-weight:bold;\n",
       "   background-color:#009933;\n",
       "   color: white;\n",
       "   padding-top: 4px;\n",
       "   padding-bottom: 4px;\n",
       "   padding-left: 4px;\n",
       "   padding-right: 8px;\n",
       " }\n",
       " .mention-trigger {\n",
       "   font-weight:bold;\n",
       "   background-color:#0066ff;\n",
       "   color: white;\n",
       "   padding-top: 4px;\n",
       "   padding-bottom: 4px;\n",
       "   padding-left: 8px;\n",
       "   padding-right: 8px;\n",
       " }\n",
       "</style><span class=\"sentence\">FIP1L1-PDGFRalpha is a constitutively activated tyrosine kinase that transforms hematopoietic cells and is inhibited by <span class=\"mention-span sentence\"><sub class=\"mention-label\">Drug</sub>imatinib</span> ( 50 percent inhibitory concentration , 3.2 nM ) .</span>"
      ],
      "text/plain": [
       "<IPython.core.display.HTML object>"
      ]
     },
     "metadata": {},
     "output_type": "display_data"
    },
    {
     "name": "stdout",
     "output_type": "stream",
     "text": [
      "None\n"
     ]
    },
    {
     "data": {
      "text/html": [
       "<style>.sentence {\n",
       "   font-family:\"Liberation Mono\",monospace;\n",
       "   color: #3e3f41;\n",
       "   font-size: 1em;\n",
       "   padding-bottom: 3px;\n",
       " }\n",
       " .mention-label {\n",
       "   -webkit-font-smoothing: subpixel-antialiased;\n",
       "   color: white;\n",
       "   font-weight:bold;\n",
       "   padding-left: 4px;\n",
       "   padding-right: 4px;\n",
       " }\n",
       " .mention-role {\n",
       "   -webkit-font-smoothing: subpixel-antialiased;\n",
       "   color: #ff0000;\n",
       "   font-weight:bold;\n",
       "   padding-left: 4px;\n",
       "   padding-right: 4px;\n",
       " }\n",
       " .mention-span {\n",
       "   border-radius: 50px;\n",
       "   background-color: #ffa64d;\n",
       "   -webkit-font-smoothing: subpixel-antialiased;\n",
       "   color: black;\n",
       "   padding-top: 4px;\n",
       "   padding-bottom: 4px;\n",
       "   padding-left: 4px;\n",
       "   padding-right: 8px;\n",
       " }\n",
       " .mention-arg {\n",
       "   font-weight:bold;\n",
       "   background-color:#009933;\n",
       "   color: white;\n",
       "   padding-top: 4px;\n",
       "   padding-bottom: 4px;\n",
       "   padding-left: 4px;\n",
       "   padding-right: 8px;\n",
       " }\n",
       " .mention-trigger {\n",
       "   font-weight:bold;\n",
       "   background-color:#0066ff;\n",
       "   color: white;\n",
       "   padding-top: 4px;\n",
       "   padding-bottom: 4px;\n",
       "   padding-left: 8px;\n",
       "   padding-right: 8px;\n",
       " }\n",
       "</style><span class=\"sentence\">Relapse in one patient correlated with the appearance of a T674I mutation in PDGFRA that confers resistance to <span class=\"mention-span sentence\"><sub class=\"mention-label\">Drug</sub>imatinib</span> .</span>"
      ],
      "text/plain": [
       "<IPython.core.display.HTML object>"
      ]
     },
     "metadata": {},
     "output_type": "display_data"
    },
    {
     "name": "stdout",
     "output_type": "stream",
     "text": [
      "None\n"
     ]
    },
    {
     "data": {
      "text/html": [
       "<style>.sentence {\n",
       "   font-family:\"Liberation Mono\",monospace;\n",
       "   color: #3e3f41;\n",
       "   font-size: 1em;\n",
       "   padding-bottom: 3px;\n",
       " }\n",
       " .mention-label {\n",
       "   -webkit-font-smoothing: subpixel-antialiased;\n",
       "   color: white;\n",
       "   font-weight:bold;\n",
       "   padding-left: 4px;\n",
       "   padding-right: 4px;\n",
       " }\n",
       " .mention-role {\n",
       "   -webkit-font-smoothing: subpixel-antialiased;\n",
       "   color: #ff0000;\n",
       "   font-weight:bold;\n",
       "   padding-left: 4px;\n",
       "   padding-right: 4px;\n",
       " }\n",
       " .mention-span {\n",
       "   border-radius: 50px;\n",
       "   background-color: #ffa64d;\n",
       "   -webkit-font-smoothing: subpixel-antialiased;\n",
       "   color: black;\n",
       "   padding-top: 4px;\n",
       "   padding-bottom: 4px;\n",
       "   padding-left: 4px;\n",
       "   padding-right: 8px;\n",
       " }\n",
       " .mention-arg {\n",
       "   font-weight:bold;\n",
       "   background-color:#009933;\n",
       "   color: white;\n",
       "   padding-top: 4px;\n",
       "   padding-bottom: 4px;\n",
       "   padding-left: 4px;\n",
       "   padding-right: 8px;\n",
       " }\n",
       " .mention-trigger {\n",
       "   font-weight:bold;\n",
       "   background-color:#0066ff;\n",
       "   color: white;\n",
       "   padding-top: 4px;\n",
       "   padding-bottom: 4px;\n",
       "   padding-left: 8px;\n",
       "   padding-right: 8px;\n",
       " }\n",
       "</style><span class=\"sentence\">The acquisition of a T674I resistance mutation at the time of relapse demonstrates that FIP1L1-PDGFRalpha is the target of <span class=\"mention-span sentence\"><sub class=\"mention-label\">Drug</sub>imatinib</span> .</span>"
      ],
      "text/plain": [
       "<IPython.core.display.HTML object>"
      ]
     },
     "metadata": {},
     "output_type": "display_data"
    },
    {
     "name": "stdout",
     "output_type": "stream",
     "text": [
      "None\n"
     ]
    },
    {
     "data": {
      "text/html": [
       "<style>.sentence {\n",
       "   font-family:\"Liberation Mono\",monospace;\n",
       "   color: #3e3f41;\n",
       "   font-size: 1em;\n",
       "   padding-bottom: 3px;\n",
       " }\n",
       " .mention-label {\n",
       "   -webkit-font-smoothing: subpixel-antialiased;\n",
       "   color: white;\n",
       "   font-weight:bold;\n",
       "   padding-left: 4px;\n",
       "   padding-right: 4px;\n",
       " }\n",
       " .mention-role {\n",
       "   -webkit-font-smoothing: subpixel-antialiased;\n",
       "   color: #ff0000;\n",
       "   font-weight:bold;\n",
       "   padding-left: 4px;\n",
       "   padding-right: 4px;\n",
       " }\n",
       " .mention-span {\n",
       "   border-radius: 50px;\n",
       "   background-color: #ffa64d;\n",
       "   -webkit-font-smoothing: subpixel-antialiased;\n",
       "   color: black;\n",
       "   padding-top: 4px;\n",
       "   padding-bottom: 4px;\n",
       "   padding-left: 4px;\n",
       "   padding-right: 8px;\n",
       " }\n",
       " .mention-arg {\n",
       "   font-weight:bold;\n",
       "   background-color:#009933;\n",
       "   color: white;\n",
       "   padding-top: 4px;\n",
       "   padding-bottom: 4px;\n",
       "   padding-left: 4px;\n",
       "   padding-right: 8px;\n",
       " }\n",
       " .mention-trigger {\n",
       "   font-weight:bold;\n",
       "   background-color:#0066ff;\n",
       "   color: white;\n",
       "   padding-top: 4px;\n",
       "   padding-bottom: 4px;\n",
       "   padding-left: 8px;\n",
       "   padding-right: 8px;\n",
       " }\n",
       "</style><span class=\"sentence\">Inhibitory effect of <span class=\"mention-span sentence\"><sub class=\"mention-label\">Drug</sub>Imatinib</span> mesylate on activated PDGFR alpha was examined .</span>"
      ],
      "text/plain": [
       "<IPython.core.display.HTML object>"
      ]
     },
     "metadata": {},
     "output_type": "display_data"
    },
    {
     "name": "stdout",
     "output_type": "stream",
     "text": [
      "None\n"
     ]
    },
    {
     "data": {
      "text/html": [
       "<style>.sentence {\n",
       "   font-family:\"Liberation Mono\",monospace;\n",
       "   color: #3e3f41;\n",
       "   font-size: 1em;\n",
       "   padding-bottom: 3px;\n",
       " }\n",
       " .mention-label {\n",
       "   -webkit-font-smoothing: subpixel-antialiased;\n",
       "   color: white;\n",
       "   font-weight:bold;\n",
       "   padding-left: 4px;\n",
       "   padding-right: 4px;\n",
       " }\n",
       " .mention-role {\n",
       "   -webkit-font-smoothing: subpixel-antialiased;\n",
       "   color: #ff0000;\n",
       "   font-weight:bold;\n",
       "   padding-left: 4px;\n",
       "   padding-right: 4px;\n",
       " }\n",
       " .mention-span {\n",
       "   border-radius: 50px;\n",
       "   background-color: #ffa64d;\n",
       "   -webkit-font-smoothing: subpixel-antialiased;\n",
       "   color: black;\n",
       "   padding-top: 4px;\n",
       "   padding-bottom: 4px;\n",
       "   padding-left: 4px;\n",
       "   padding-right: 8px;\n",
       " }\n",
       " .mention-arg {\n",
       "   font-weight:bold;\n",
       "   background-color:#009933;\n",
       "   color: white;\n",
       "   padding-top: 4px;\n",
       "   padding-bottom: 4px;\n",
       "   padding-left: 4px;\n",
       "   padding-right: 8px;\n",
       " }\n",
       " .mention-trigger {\n",
       "   font-weight:bold;\n",
       "   background-color:#0066ff;\n",
       "   color: white;\n",
       "   padding-top: 4px;\n",
       "   padding-bottom: 4px;\n",
       "   padding-left: 8px;\n",
       "   padding-right: 8px;\n",
       " }\n",
       "</style><span class=\"sentence\">The constitutive activation of PDGFR alpha with Val 561 to Asp was inhibited effectively by <span class=\"mention-span sentence\"><sub class=\"mention-label\">Drug</sub>Imatinib</span> mesylate but that of PDGFR alpha with Asp 842 to Val was inhibited only weakly , even at the concentration of 10 micromol/L .</span>"
      ],
      "text/plain": [
       "<IPython.core.display.HTML object>"
      ]
     },
     "metadata": {},
     "output_type": "display_data"
    },
    {
     "name": "stdout",
     "output_type": "stream",
     "text": [
      "None\n"
     ]
    },
    {
     "data": {
      "text/html": [
       "<style>.sentence {\n",
       "   font-family:\"Liberation Mono\",monospace;\n",
       "   color: #3e3f41;\n",
       "   font-size: 1em;\n",
       "   padding-bottom: 3px;\n",
       " }\n",
       " .mention-label {\n",
       "   -webkit-font-smoothing: subpixel-antialiased;\n",
       "   color: white;\n",
       "   font-weight:bold;\n",
       "   padding-left: 4px;\n",
       "   padding-right: 4px;\n",
       " }\n",
       " .mention-role {\n",
       "   -webkit-font-smoothing: subpixel-antialiased;\n",
       "   color: #ff0000;\n",
       "   font-weight:bold;\n",
       "   padding-left: 4px;\n",
       "   padding-right: 4px;\n",
       " }\n",
       " .mention-span {\n",
       "   border-radius: 50px;\n",
       "   background-color: #ffa64d;\n",
       "   -webkit-font-smoothing: subpixel-antialiased;\n",
       "   color: black;\n",
       "   padding-top: 4px;\n",
       "   padding-bottom: 4px;\n",
       "   padding-left: 4px;\n",
       "   padding-right: 8px;\n",
       " }\n",
       " .mention-arg {\n",
       "   font-weight:bold;\n",
       "   background-color:#009933;\n",
       "   color: white;\n",
       "   padding-top: 4px;\n",
       "   padding-bottom: 4px;\n",
       "   padding-left: 4px;\n",
       "   padding-right: 8px;\n",
       " }\n",
       " .mention-trigger {\n",
       "   font-weight:bold;\n",
       "   background-color:#0066ff;\n",
       "   color: white;\n",
       "   padding-top: 4px;\n",
       "   padding-bottom: 4px;\n",
       "   padding-left: 8px;\n",
       "   padding-right: 8px;\n",
       " }\n",
       "</style><span class=\"sentence\">We recently described a subset of patients with a myeloproliferative variant of hypereosinophilic syndrome ( MHES ) characterized by elevated serum tryptase levels , increased atypical mast cells in the bone marrow , tissue fibrosis , and the presence of the fusion tyrosine kinase , FIP1L1-PDGFRalpha , which is a therapeutic target of <span class=\"mention-span sentence\"><sub class=\"mention-label\">Drug</sub>imatinib</span> mesylate .</span>"
      ],
      "text/plain": [
       "<IPython.core.display.HTML object>"
      ]
     },
     "metadata": {},
     "output_type": "display_data"
    },
    {
     "name": "stdout",
     "output_type": "stream",
     "text": [
      "None\n"
     ]
    },
    {
     "data": {
      "text/html": [
       "<style>.sentence {\n",
       "   font-family:\"Liberation Mono\",monospace;\n",
       "   color: #3e3f41;\n",
       "   font-size: 1em;\n",
       "   padding-bottom: 3px;\n",
       " }\n",
       " .mention-label {\n",
       "   -webkit-font-smoothing: subpixel-antialiased;\n",
       "   color: white;\n",
       "   font-weight:bold;\n",
       "   padding-left: 4px;\n",
       "   padding-right: 4px;\n",
       " }\n",
       " .mention-role {\n",
       "   -webkit-font-smoothing: subpixel-antialiased;\n",
       "   color: #ff0000;\n",
       "   font-weight:bold;\n",
       "   padding-left: 4px;\n",
       "   padding-right: 4px;\n",
       " }\n",
       " .mention-span {\n",
       "   border-radius: 50px;\n",
       "   background-color: #ffa64d;\n",
       "   -webkit-font-smoothing: subpixel-antialiased;\n",
       "   color: black;\n",
       "   padding-top: 4px;\n",
       "   padding-bottom: 4px;\n",
       "   padding-left: 4px;\n",
       "   padding-right: 8px;\n",
       " }\n",
       " .mention-arg {\n",
       "   font-weight:bold;\n",
       "   background-color:#009933;\n",
       "   color: white;\n",
       "   padding-top: 4px;\n",
       "   padding-bottom: 4px;\n",
       "   padding-left: 4px;\n",
       "   padding-right: 8px;\n",
       " }\n",
       " .mention-trigger {\n",
       "   font-weight:bold;\n",
       "   background-color:#0066ff;\n",
       "   color: white;\n",
       "   padding-top: 4px;\n",
       "   padding-bottom: 4px;\n",
       "   padding-left: 8px;\n",
       "   padding-right: 8px;\n",
       " }\n",
       "</style><span class=\"sentence\">Seven patients with MHES were treated with <span class=\"mention-span sentence\"><sub class=\"mention-label\">Drug</sub>imatinib</span> mesylate ( 300-400 mg daily ) .</span>"
      ],
      "text/plain": [
       "<IPython.core.display.HTML object>"
      ]
     },
     "metadata": {},
     "output_type": "display_data"
    },
    {
     "name": "stdout",
     "output_type": "stream",
     "text": [
      "None\n"
     ]
    },
    {
     "data": {
      "text/html": [
       "<style>.sentence {\n",
       "   font-family:\"Liberation Mono\",monospace;\n",
       "   color: #3e3f41;\n",
       "   font-size: 1em;\n",
       "   padding-bottom: 3px;\n",
       " }\n",
       " .mention-label {\n",
       "   -webkit-font-smoothing: subpixel-antialiased;\n",
       "   color: white;\n",
       "   font-weight:bold;\n",
       "   padding-left: 4px;\n",
       "   padding-right: 4px;\n",
       " }\n",
       " .mention-role {\n",
       "   -webkit-font-smoothing: subpixel-antialiased;\n",
       "   color: #ff0000;\n",
       "   font-weight:bold;\n",
       "   padding-left: 4px;\n",
       "   padding-right: 4px;\n",
       " }\n",
       " .mention-span {\n",
       "   border-radius: 50px;\n",
       "   background-color: #ffa64d;\n",
       "   -webkit-font-smoothing: subpixel-antialiased;\n",
       "   color: black;\n",
       "   padding-top: 4px;\n",
       "   padding-bottom: 4px;\n",
       "   padding-left: 4px;\n",
       "   padding-right: 8px;\n",
       " }\n",
       " .mention-arg {\n",
       "   font-weight:bold;\n",
       "   background-color:#009933;\n",
       "   color: white;\n",
       "   padding-top: 4px;\n",
       "   padding-bottom: 4px;\n",
       "   padding-left: 4px;\n",
       "   padding-right: 8px;\n",
       " }\n",
       " .mention-trigger {\n",
       "   font-weight:bold;\n",
       "   background-color:#0066ff;\n",
       "   color: white;\n",
       "   padding-top: 4px;\n",
       "   padding-bottom: 4px;\n",
       "   padding-left: 8px;\n",
       "   padding-right: 8px;\n",
       " }\n",
       "</style><span class=\"sentence\">The lack of reversal of cardiac abnormalities and persistence of the F/P mutation in some patients suggests that early intervention with higher doses of <span class=\"mention-span sentence\"><sub class=\"mention-label\">Drug</sub>imatinib</span> mesylate may be desirable in the treatment of patients with MHES .</span>"
      ],
      "text/plain": [
       "<IPython.core.display.HTML object>"
      ]
     },
     "metadata": {},
     "output_type": "display_data"
    },
    {
     "name": "stdout",
     "output_type": "stream",
     "text": [
      "None\n"
     ]
    },
    {
     "data": {
      "text/html": [
       "<style>.sentence {\n",
       "   font-family:\"Liberation Mono\",monospace;\n",
       "   color: #3e3f41;\n",
       "   font-size: 1em;\n",
       "   padding-bottom: 3px;\n",
       " }\n",
       " .mention-label {\n",
       "   -webkit-font-smoothing: subpixel-antialiased;\n",
       "   color: white;\n",
       "   font-weight:bold;\n",
       "   padding-left: 4px;\n",
       "   padding-right: 4px;\n",
       " }\n",
       " .mention-role {\n",
       "   -webkit-font-smoothing: subpixel-antialiased;\n",
       "   color: #ff0000;\n",
       "   font-weight:bold;\n",
       "   padding-left: 4px;\n",
       "   padding-right: 4px;\n",
       " }\n",
       " .mention-span {\n",
       "   border-radius: 50px;\n",
       "   background-color: #ffa64d;\n",
       "   -webkit-font-smoothing: subpixel-antialiased;\n",
       "   color: black;\n",
       "   padding-top: 4px;\n",
       "   padding-bottom: 4px;\n",
       "   padding-left: 4px;\n",
       "   padding-right: 8px;\n",
       " }\n",
       " .mention-arg {\n",
       "   font-weight:bold;\n",
       "   background-color:#009933;\n",
       "   color: white;\n",
       "   padding-top: 4px;\n",
       "   padding-bottom: 4px;\n",
       "   padding-left: 4px;\n",
       "   padding-right: 8px;\n",
       " }\n",
       " .mention-trigger {\n",
       "   font-weight:bold;\n",
       "   background-color:#0066ff;\n",
       "   color: white;\n",
       "   padding-top: 4px;\n",
       "   padding-bottom: 4px;\n",
       "   padding-left: 8px;\n",
       "   padding-right: 8px;\n",
       " }\n",
       "</style><span class=\"sentence\">PURPOSE : Most gastrointestinal stromal tumors ( GISTs ) express constitutively activated mutant isoforms of KIT or kinase platelet derived growth factor receptor alpha ( PDGFRA ) that are potential therapeutic targets for <span class=\"mention-span sentence\"><sub class=\"mention-label\">Drug</sub>imatinib</span> mesylate .</span>"
      ],
      "text/plain": [
       "<IPython.core.display.HTML object>"
      ]
     },
     "metadata": {},
     "output_type": "display_data"
    },
    {
     "name": "stdout",
     "output_type": "stream",
     "text": [
      "None\n"
     ]
    },
    {
     "data": {
      "text/html": [
       "<style>.sentence {\n",
       "   font-family:\"Liberation Mono\",monospace;\n",
       "   color: #3e3f41;\n",
       "   font-size: 1em;\n",
       "   padding-bottom: 3px;\n",
       " }\n",
       " .mention-label {\n",
       "   -webkit-font-smoothing: subpixel-antialiased;\n",
       "   color: white;\n",
       "   font-weight:bold;\n",
       "   padding-left: 4px;\n",
       "   padding-right: 4px;\n",
       " }\n",
       " .mention-role {\n",
       "   -webkit-font-smoothing: subpixel-antialiased;\n",
       "   color: #ff0000;\n",
       "   font-weight:bold;\n",
       "   padding-left: 4px;\n",
       "   padding-right: 4px;\n",
       " }\n",
       " .mention-span {\n",
       "   border-radius: 50px;\n",
       "   background-color: #ffa64d;\n",
       "   -webkit-font-smoothing: subpixel-antialiased;\n",
       "   color: black;\n",
       "   padding-top: 4px;\n",
       "   padding-bottom: 4px;\n",
       "   padding-left: 4px;\n",
       "   padding-right: 8px;\n",
       " }\n",
       " .mention-arg {\n",
       "   font-weight:bold;\n",
       "   background-color:#009933;\n",
       "   color: white;\n",
       "   padding-top: 4px;\n",
       "   padding-bottom: 4px;\n",
       "   padding-left: 4px;\n",
       "   padding-right: 8px;\n",
       " }\n",
       " .mention-trigger {\n",
       "   font-weight:bold;\n",
       "   background-color:#0066ff;\n",
       "   color: white;\n",
       "   padding-top: 4px;\n",
       "   padding-bottom: 4px;\n",
       "   padding-left: 8px;\n",
       "   padding-right: 8px;\n",
       " }\n",
       "</style><span class=\"sentence\">The relationship between mutations in these kinases and clinical response to <span class=\"mention-span sentence\"><sub class=\"mention-label\">Drug</sub>imatinib</span> was examined in a group of patients with advanced GIST .</span>"
      ],
      "text/plain": [
       "<IPython.core.display.HTML object>"
      ]
     },
     "metadata": {},
     "output_type": "display_data"
    },
    {
     "name": "stdout",
     "output_type": "stream",
     "text": [
      "None\n"
     ]
    },
    {
     "data": {
      "text/html": [
       "<style>.sentence {\n",
       "   font-family:\"Liberation Mono\",monospace;\n",
       "   color: #3e3f41;\n",
       "   font-size: 1em;\n",
       "   padding-bottom: 3px;\n",
       " }\n",
       " .mention-label {\n",
       "   -webkit-font-smoothing: subpixel-antialiased;\n",
       "   color: white;\n",
       "   font-weight:bold;\n",
       "   padding-left: 4px;\n",
       "   padding-right: 4px;\n",
       " }\n",
       " .mention-role {\n",
       "   -webkit-font-smoothing: subpixel-antialiased;\n",
       "   color: #ff0000;\n",
       "   font-weight:bold;\n",
       "   padding-left: 4px;\n",
       "   padding-right: 4px;\n",
       " }\n",
       " .mention-span {\n",
       "   border-radius: 50px;\n",
       "   background-color: #ffa64d;\n",
       "   -webkit-font-smoothing: subpixel-antialiased;\n",
       "   color: black;\n",
       "   padding-top: 4px;\n",
       "   padding-bottom: 4px;\n",
       "   padding-left: 4px;\n",
       "   padding-right: 8px;\n",
       " }\n",
       " .mention-arg {\n",
       "   font-weight:bold;\n",
       "   background-color:#009933;\n",
       "   color: white;\n",
       "   padding-top: 4px;\n",
       "   padding-bottom: 4px;\n",
       "   padding-left: 4px;\n",
       "   padding-right: 8px;\n",
       " }\n",
       " .mention-trigger {\n",
       "   font-weight:bold;\n",
       "   background-color:#0066ff;\n",
       "   color: white;\n",
       "   padding-top: 4px;\n",
       "   padding-bottom: 4px;\n",
       "   padding-left: 8px;\n",
       "   padding-right: 8px;\n",
       " }\n",
       "</style><span class=\"sentence\">PATIENTS AND METHODS : GISTs from 127 patients enrolled onto a phase II clinical study of <span class=\"mention-span sentence\"><sub class=\"mention-label\">Drug</sub>imatinib</span> were examined for mutations of KIT or PDGFRA .</span>"
      ],
      "text/plain": [
       "<IPython.core.display.HTML object>"
      ]
     },
     "metadata": {},
     "output_type": "display_data"
    },
    {
     "name": "stdout",
     "output_type": "stream",
     "text": [
      "None\n"
     ]
    },
    {
     "data": {
      "text/html": [
       "<style>.sentence {\n",
       "   font-family:\"Liberation Mono\",monospace;\n",
       "   color: #3e3f41;\n",
       "   font-size: 1em;\n",
       "   padding-bottom: 3px;\n",
       " }\n",
       " .mention-label {\n",
       "   -webkit-font-smoothing: subpixel-antialiased;\n",
       "   color: white;\n",
       "   font-weight:bold;\n",
       "   padding-left: 4px;\n",
       "   padding-right: 4px;\n",
       " }\n",
       " .mention-role {\n",
       "   -webkit-font-smoothing: subpixel-antialiased;\n",
       "   color: #ff0000;\n",
       "   font-weight:bold;\n",
       "   padding-left: 4px;\n",
       "   padding-right: 4px;\n",
       " }\n",
       " .mention-span {\n",
       "   border-radius: 50px;\n",
       "   background-color: #ffa64d;\n",
       "   -webkit-font-smoothing: subpixel-antialiased;\n",
       "   color: black;\n",
       "   padding-top: 4px;\n",
       "   padding-bottom: 4px;\n",
       "   padding-left: 4px;\n",
       "   padding-right: 8px;\n",
       " }\n",
       " .mention-arg {\n",
       "   font-weight:bold;\n",
       "   background-color:#009933;\n",
       "   color: white;\n",
       "   padding-top: 4px;\n",
       "   padding-bottom: 4px;\n",
       "   padding-left: 4px;\n",
       "   padding-right: 8px;\n",
       " }\n",
       " .mention-trigger {\n",
       "   font-weight:bold;\n",
       "   background-color:#0066ff;\n",
       "   color: white;\n",
       "   padding-top: 4px;\n",
       "   padding-bottom: 4px;\n",
       "   padding-left: 8px;\n",
       "   padding-right: 8px;\n",
       " }\n",
       "</style><span class=\"sentence\">All KIT mutant isoforms , but only a subset of PDGFRA mutant isoforms , were sensitive to <span class=\"mention-span sentence\"><sub class=\"mention-label\">Drug</sub>imatinib</span> , in vitro .</span>"
      ],
      "text/plain": [
       "<IPython.core.display.HTML object>"
      ]
     },
     "metadata": {},
     "output_type": "display_data"
    },
    {
     "name": "stdout",
     "output_type": "stream",
     "text": [
      "None\n"
     ]
    },
    {
     "data": {
      "text/html": [
       "<style>.sentence {\n",
       "   font-family:\"Liberation Mono\",monospace;\n",
       "   color: #3e3f41;\n",
       "   font-size: 1em;\n",
       "   padding-bottom: 3px;\n",
       " }\n",
       " .mention-label {\n",
       "   -webkit-font-smoothing: subpixel-antialiased;\n",
       "   color: white;\n",
       "   font-weight:bold;\n",
       "   padding-left: 4px;\n",
       "   padding-right: 4px;\n",
       " }\n",
       " .mention-role {\n",
       "   -webkit-font-smoothing: subpixel-antialiased;\n",
       "   color: #ff0000;\n",
       "   font-weight:bold;\n",
       "   padding-left: 4px;\n",
       "   padding-right: 4px;\n",
       " }\n",
       " .mention-span {\n",
       "   border-radius: 50px;\n",
       "   background-color: #ffa64d;\n",
       "   -webkit-font-smoothing: subpixel-antialiased;\n",
       "   color: black;\n",
       "   padding-top: 4px;\n",
       "   padding-bottom: 4px;\n",
       "   padding-left: 4px;\n",
       "   padding-right: 8px;\n",
       " }\n",
       " .mention-arg {\n",
       "   font-weight:bold;\n",
       "   background-color:#009933;\n",
       "   color: white;\n",
       "   padding-top: 4px;\n",
       "   padding-bottom: 4px;\n",
       "   padding-left: 4px;\n",
       "   padding-right: 8px;\n",
       " }\n",
       " .mention-trigger {\n",
       "   font-weight:bold;\n",
       "   background-color:#0066ff;\n",
       "   color: white;\n",
       "   padding-top: 4px;\n",
       "   padding-bottom: 4px;\n",
       "   padding-left: 8px;\n",
       "   padding-right: 8px;\n",
       " }\n",
       "</style><span class=\"sentence\">CONCLUSION : Activating mutations of KIT or PDGFRA are found in the vast majority of GISTs , and the mutational status of these oncoproteins is predictive of clinical response to <span class=\"mention-span sentence\"><sub class=\"mention-label\">Drug</sub>imatinib</span> .</span>"
      ],
      "text/plain": [
       "<IPython.core.display.HTML object>"
      ]
     },
     "metadata": {},
     "output_type": "display_data"
    },
    {
     "name": "stdout",
     "output_type": "stream",
     "text": [
      "None\n"
     ]
    },
    {
     "data": {
      "text/html": [
       "<style>.sentence {\n",
       "   font-family:\"Liberation Mono\",monospace;\n",
       "   color: #3e3f41;\n",
       "   font-size: 1em;\n",
       "   padding-bottom: 3px;\n",
       " }\n",
       " .mention-label {\n",
       "   -webkit-font-smoothing: subpixel-antialiased;\n",
       "   color: white;\n",
       "   font-weight:bold;\n",
       "   padding-left: 4px;\n",
       "   padding-right: 4px;\n",
       " }\n",
       " .mention-role {\n",
       "   -webkit-font-smoothing: subpixel-antialiased;\n",
       "   color: #ff0000;\n",
       "   font-weight:bold;\n",
       "   padding-left: 4px;\n",
       "   padding-right: 4px;\n",
       " }\n",
       " .mention-span {\n",
       "   border-radius: 50px;\n",
       "   background-color: #ffa64d;\n",
       "   -webkit-font-smoothing: subpixel-antialiased;\n",
       "   color: black;\n",
       "   padding-top: 4px;\n",
       "   padding-bottom: 4px;\n",
       "   padding-left: 4px;\n",
       "   padding-right: 8px;\n",
       " }\n",
       " .mention-arg {\n",
       "   font-weight:bold;\n",
       "   background-color:#009933;\n",
       "   color: white;\n",
       "   padding-top: 4px;\n",
       "   padding-bottom: 4px;\n",
       "   padding-left: 4px;\n",
       "   padding-right: 8px;\n",
       " }\n",
       " .mention-trigger {\n",
       "   font-weight:bold;\n",
       "   background-color:#0066ff;\n",
       "   color: white;\n",
       "   padding-top: 4px;\n",
       "   padding-bottom: 4px;\n",
       "   padding-left: 8px;\n",
       "   padding-right: 8px;\n",
       " }\n",
       "</style><span class=\"sentence\">PDGFRA mutations can explain response and sensitivity to <span class=\"mention-span sentence\"><sub class=\"mention-label\">Drug</sub>imatinib</span> in some GISTs lacking KIT mutations .</span>"
      ],
      "text/plain": [
       "<IPython.core.display.HTML object>"
      ]
     },
     "metadata": {},
     "output_type": "display_data"
    },
    {
     "name": "stdout",
     "output_type": "stream",
     "text": [
      "None\n"
     ]
    },
    {
     "data": {
      "text/html": [
       "<style>.sentence {\n",
       "   font-family:\"Liberation Mono\",monospace;\n",
       "   color: #3e3f41;\n",
       "   font-size: 1em;\n",
       "   padding-bottom: 3px;\n",
       " }\n",
       " .mention-label {\n",
       "   -webkit-font-smoothing: subpixel-antialiased;\n",
       "   color: white;\n",
       "   font-weight:bold;\n",
       "   padding-left: 4px;\n",
       "   padding-right: 4px;\n",
       " }\n",
       " .mention-role {\n",
       "   -webkit-font-smoothing: subpixel-antialiased;\n",
       "   color: #ff0000;\n",
       "   font-weight:bold;\n",
       "   padding-left: 4px;\n",
       "   padding-right: 4px;\n",
       " }\n",
       " .mention-span {\n",
       "   border-radius: 50px;\n",
       "   background-color: #ffa64d;\n",
       "   -webkit-font-smoothing: subpixel-antialiased;\n",
       "   color: black;\n",
       "   padding-top: 4px;\n",
       "   padding-bottom: 4px;\n",
       "   padding-left: 4px;\n",
       "   padding-right: 8px;\n",
       " }\n",
       " .mention-arg {\n",
       "   font-weight:bold;\n",
       "   background-color:#009933;\n",
       "   color: white;\n",
       "   padding-top: 4px;\n",
       "   padding-bottom: 4px;\n",
       "   padding-left: 4px;\n",
       "   padding-right: 8px;\n",
       " }\n",
       " .mention-trigger {\n",
       "   font-weight:bold;\n",
       "   background-color:#0066ff;\n",
       "   color: white;\n",
       "   padding-top: 4px;\n",
       "   padding-bottom: 4px;\n",
       "   padding-left: 8px;\n",
       "   padding-right: 8px;\n",
       " }\n",
       "</style><span class=\"sentence\">Treatment with the EGFR kinase inhibitor <span class=\"mention-span sentence\"><sub class=\"mention-label\">Drug</sub>gefitinib</span> ( Iressa ) causes tumor regression in some patients with NSCLC , more frequently in Japan .</span>"
      ],
      "text/plain": [
       "<IPython.core.display.HTML object>"
      ]
     },
     "metadata": {},
     "output_type": "display_data"
    },
    {
     "name": "stdout",
     "output_type": "stream",
     "text": [
      "None\n"
     ]
    },
    {
     "data": {
      "text/html": [
       "<style>.sentence {\n",
       "   font-family:\"Liberation Mono\",monospace;\n",
       "   color: #3e3f41;\n",
       "   font-size: 1em;\n",
       "   padding-bottom: 3px;\n",
       " }\n",
       " .mention-label {\n",
       "   -webkit-font-smoothing: subpixel-antialiased;\n",
       "   color: white;\n",
       "   font-weight:bold;\n",
       "   padding-left: 4px;\n",
       "   padding-right: 4px;\n",
       " }\n",
       " .mention-role {\n",
       "   -webkit-font-smoothing: subpixel-antialiased;\n",
       "   color: #ff0000;\n",
       "   font-weight:bold;\n",
       "   padding-left: 4px;\n",
       "   padding-right: 4px;\n",
       " }\n",
       " .mention-span {\n",
       "   border-radius: 50px;\n",
       "   background-color: #ffa64d;\n",
       "   -webkit-font-smoothing: subpixel-antialiased;\n",
       "   color: black;\n",
       "   padding-top: 4px;\n",
       "   padding-bottom: 4px;\n",
       "   padding-left: 4px;\n",
       "   padding-right: 8px;\n",
       " }\n",
       " .mention-arg {\n",
       "   font-weight:bold;\n",
       "   background-color:#009933;\n",
       "   color: white;\n",
       "   padding-top: 4px;\n",
       "   padding-bottom: 4px;\n",
       "   padding-left: 4px;\n",
       "   padding-right: 8px;\n",
       " }\n",
       " .mention-trigger {\n",
       "   font-weight:bold;\n",
       "   background-color:#0066ff;\n",
       "   color: white;\n",
       "   padding-top: 4px;\n",
       "   padding-bottom: 4px;\n",
       "   padding-left: 8px;\n",
       "   padding-right: 8px;\n",
       " }\n",
       "</style><span class=\"sentence\">EGFR mutations were found in additional lung cancer samples from U.S. patients who responded to <span class=\"mention-span sentence\"><sub class=\"mention-label\">Drug</sub>gefitinib</span> therapy and in a lung adenocarcinoma cell line that was hypersensitive to growth inhibition by gefitinib , but not in gefitinib-insensitive tumors or cell lines .</span>"
      ],
      "text/plain": [
       "<IPython.core.display.HTML object>"
      ]
     },
     "metadata": {},
     "output_type": "display_data"
    },
    {
     "name": "stdout",
     "output_type": "stream",
     "text": [
      "None\n"
     ]
    },
    {
     "data": {
      "text/html": [
       "<style>.sentence {\n",
       "   font-family:\"Liberation Mono\",monospace;\n",
       "   color: #3e3f41;\n",
       "   font-size: 1em;\n",
       "   padding-bottom: 3px;\n",
       " }\n",
       " .mention-label {\n",
       "   -webkit-font-smoothing: subpixel-antialiased;\n",
       "   color: white;\n",
       "   font-weight:bold;\n",
       "   padding-left: 4px;\n",
       "   padding-right: 4px;\n",
       " }\n",
       " .mention-role {\n",
       "   -webkit-font-smoothing: subpixel-antialiased;\n",
       "   color: #ff0000;\n",
       "   font-weight:bold;\n",
       "   padding-left: 4px;\n",
       "   padding-right: 4px;\n",
       " }\n",
       " .mention-span {\n",
       "   border-radius: 50px;\n",
       "   background-color: #ffa64d;\n",
       "   -webkit-font-smoothing: subpixel-antialiased;\n",
       "   color: black;\n",
       "   padding-top: 4px;\n",
       "   padding-bottom: 4px;\n",
       "   padding-left: 4px;\n",
       "   padding-right: 8px;\n",
       " }\n",
       " .mention-arg {\n",
       "   font-weight:bold;\n",
       "   background-color:#009933;\n",
       "   color: white;\n",
       "   padding-top: 4px;\n",
       "   padding-bottom: 4px;\n",
       "   padding-left: 4px;\n",
       "   padding-right: 8px;\n",
       " }\n",
       " .mention-trigger {\n",
       "   font-weight:bold;\n",
       "   background-color:#0066ff;\n",
       "   color: white;\n",
       "   padding-top: 4px;\n",
       "   padding-bottom: 4px;\n",
       "   padding-left: 8px;\n",
       "   padding-right: 8px;\n",
       " }\n",
       "</style><span class=\"sentence\">EGFR mutations were found in additional lung cancer samples from U.S. patients who responded to gefitinib therapy and in a lung adenocarcinoma cell line that was hypersensitive to growth inhibition by <span class=\"mention-span sentence\"><sub class=\"mention-label\">Drug</sub>gefitinib</span> , but not in gefitinib-insensitive tumors or cell lines .</span>"
      ],
      "text/plain": [
       "<IPython.core.display.HTML object>"
      ]
     },
     "metadata": {},
     "output_type": "display_data"
    },
    {
     "name": "stdout",
     "output_type": "stream",
     "text": [
      "None\n"
     ]
    },
    {
     "data": {
      "text/html": [
       "<style>.sentence {\n",
       "   font-family:\"Liberation Mono\",monospace;\n",
       "   color: #3e3f41;\n",
       "   font-size: 1em;\n",
       "   padding-bottom: 3px;\n",
       " }\n",
       " .mention-label {\n",
       "   -webkit-font-smoothing: subpixel-antialiased;\n",
       "   color: white;\n",
       "   font-weight:bold;\n",
       "   padding-left: 4px;\n",
       "   padding-right: 4px;\n",
       " }\n",
       " .mention-role {\n",
       "   -webkit-font-smoothing: subpixel-antialiased;\n",
       "   color: #ff0000;\n",
       "   font-weight:bold;\n",
       "   padding-left: 4px;\n",
       "   padding-right: 4px;\n",
       " }\n",
       " .mention-span {\n",
       "   border-radius: 50px;\n",
       "   background-color: #ffa64d;\n",
       "   -webkit-font-smoothing: subpixel-antialiased;\n",
       "   color: black;\n",
       "   padding-top: 4px;\n",
       "   padding-bottom: 4px;\n",
       "   padding-left: 4px;\n",
       "   padding-right: 8px;\n",
       " }\n",
       " .mention-arg {\n",
       "   font-weight:bold;\n",
       "   background-color:#009933;\n",
       "   color: white;\n",
       "   padding-top: 4px;\n",
       "   padding-bottom: 4px;\n",
       "   padding-left: 4px;\n",
       "   padding-right: 8px;\n",
       " }\n",
       " .mention-trigger {\n",
       "   font-weight:bold;\n",
       "   background-color:#0066ff;\n",
       "   color: white;\n",
       "   padding-top: 4px;\n",
       "   padding-bottom: 4px;\n",
       "   padding-left: 8px;\n",
       "   padding-right: 8px;\n",
       " }\n",
       "</style><span class=\"sentence\">These results suggest that EGFR mutations may predict sensitivity to <span class=\"mention-span sentence\"><sub class=\"mention-label\">Drug</sub>gefitinib</span> .</span>"
      ],
      "text/plain": [
       "<IPython.core.display.HTML object>"
      ]
     },
     "metadata": {},
     "output_type": "display_data"
    },
    {
     "name": "stdout",
     "output_type": "stream",
     "text": [
      "None\n"
     ]
    },
    {
     "data": {
      "text/html": [
       "<style>.sentence {\n",
       "   font-family:\"Liberation Mono\",monospace;\n",
       "   color: #3e3f41;\n",
       "   font-size: 1em;\n",
       "   padding-bottom: 3px;\n",
       " }\n",
       " .mention-label {\n",
       "   -webkit-font-smoothing: subpixel-antialiased;\n",
       "   color: white;\n",
       "   font-weight:bold;\n",
       "   padding-left: 4px;\n",
       "   padding-right: 4px;\n",
       " }\n",
       " .mention-role {\n",
       "   -webkit-font-smoothing: subpixel-antialiased;\n",
       "   color: #ff0000;\n",
       "   font-weight:bold;\n",
       "   padding-left: 4px;\n",
       "   padding-right: 4px;\n",
       " }\n",
       " .mention-span {\n",
       "   border-radius: 50px;\n",
       "   background-color: #ffa64d;\n",
       "   -webkit-font-smoothing: subpixel-antialiased;\n",
       "   color: black;\n",
       "   padding-top: 4px;\n",
       "   padding-bottom: 4px;\n",
       "   padding-left: 4px;\n",
       "   padding-right: 8px;\n",
       " }\n",
       " .mention-arg {\n",
       "   font-weight:bold;\n",
       "   background-color:#009933;\n",
       "   color: white;\n",
       "   padding-top: 4px;\n",
       "   padding-bottom: 4px;\n",
       "   padding-left: 4px;\n",
       "   padding-right: 8px;\n",
       " }\n",
       " .mention-trigger {\n",
       "   font-weight:bold;\n",
       "   background-color:#0066ff;\n",
       "   color: white;\n",
       "   padding-top: 4px;\n",
       "   padding-bottom: 4px;\n",
       "   padding-left: 8px;\n",
       "   padding-right: 8px;\n",
       " }\n",
       "</style><span class=\"sentence\">The resistance to the tyrosine kinase inhibitor <span class=\"mention-span sentence\"><sub class=\"mention-label\">Drug</sub>imatinib</span> in BCR and ABL positive leukemias is mostly associated with mutations in the kinase domain of BCR and ABL , which include the most prevalent mutations E255K and T315I .</span>"
      ],
      "text/plain": [
       "<IPython.core.display.HTML object>"
      ]
     },
     "metadata": {},
     "output_type": "display_data"
    },
    {
     "name": "stdout",
     "output_type": "stream",
     "text": [
      "None\n"
     ]
    },
    {
     "data": {
      "text/html": [
       "<style>.sentence {\n",
       "   font-family:\"Liberation Mono\",monospace;\n",
       "   color: #3e3f41;\n",
       "   font-size: 1em;\n",
       "   padding-bottom: 3px;\n",
       " }\n",
       " .mention-label {\n",
       "   -webkit-font-smoothing: subpixel-antialiased;\n",
       "   color: white;\n",
       "   font-weight:bold;\n",
       "   padding-left: 4px;\n",
       "   padding-right: 4px;\n",
       " }\n",
       " .mention-role {\n",
       "   -webkit-font-smoothing: subpixel-antialiased;\n",
       "   color: #ff0000;\n",
       "   font-weight:bold;\n",
       "   padding-left: 4px;\n",
       "   padding-right: 4px;\n",
       " }\n",
       " .mention-span {\n",
       "   border-radius: 50px;\n",
       "   background-color: #ffa64d;\n",
       "   -webkit-font-smoothing: subpixel-antialiased;\n",
       "   color: black;\n",
       "   padding-top: 4px;\n",
       "   padding-bottom: 4px;\n",
       "   padding-left: 4px;\n",
       "   padding-right: 8px;\n",
       " }\n",
       " .mention-arg {\n",
       "   font-weight:bold;\n",
       "   background-color:#009933;\n",
       "   color: white;\n",
       "   padding-top: 4px;\n",
       "   padding-bottom: 4px;\n",
       "   padding-left: 4px;\n",
       "   padding-right: 8px;\n",
       " }\n",
       " .mention-trigger {\n",
       "   font-weight:bold;\n",
       "   background-color:#0066ff;\n",
       "   color: white;\n",
       "   padding-top: 4px;\n",
       "   padding-bottom: 4px;\n",
       "   padding-left: 8px;\n",
       "   padding-right: 8px;\n",
       " }\n",
       "</style><span class=\"sentence\">Intriguingly , these mutations have also been identified in some patients before <span class=\"mention-span sentence\"><sub class=\"mention-label\">Drug</sub>imatinib</span> treatment .</span>"
      ],
      "text/plain": [
       "<IPython.core.display.HTML object>"
      ]
     },
     "metadata": {},
     "output_type": "display_data"
    },
    {
     "name": "stdout",
     "output_type": "stream",
     "text": [
      "None\n"
     ]
    },
    {
     "data": {
      "text/html": [
       "<style>.sentence {\n",
       "   font-family:\"Liberation Mono\",monospace;\n",
       "   color: #3e3f41;\n",
       "   font-size: 1em;\n",
       "   padding-bottom: 3px;\n",
       " }\n",
       " .mention-label {\n",
       "   -webkit-font-smoothing: subpixel-antialiased;\n",
       "   color: white;\n",
       "   font-weight:bold;\n",
       "   padding-left: 4px;\n",
       "   padding-right: 4px;\n",
       " }\n",
       " .mention-role {\n",
       "   -webkit-font-smoothing: subpixel-antialiased;\n",
       "   color: #ff0000;\n",
       "   font-weight:bold;\n",
       "   padding-left: 4px;\n",
       "   padding-right: 4px;\n",
       " }\n",
       " .mention-span {\n",
       "   border-radius: 50px;\n",
       "   background-color: #ffa64d;\n",
       "   -webkit-font-smoothing: subpixel-antialiased;\n",
       "   color: black;\n",
       "   padding-top: 4px;\n",
       "   padding-bottom: 4px;\n",
       "   padding-left: 4px;\n",
       "   padding-right: 8px;\n",
       " }\n",
       " .mention-arg {\n",
       "   font-weight:bold;\n",
       "   background-color:#009933;\n",
       "   color: white;\n",
       "   padding-top: 4px;\n",
       "   padding-bottom: 4px;\n",
       "   padding-left: 4px;\n",
       "   padding-right: 8px;\n",
       " }\n",
       " .mention-trigger {\n",
       "   font-weight:bold;\n",
       "   background-color:#0066ff;\n",
       "   color: white;\n",
       "   padding-top: 4px;\n",
       "   padding-bottom: 4px;\n",
       "   padding-left: 8px;\n",
       "   padding-right: 8px;\n",
       " }\n",
       "</style><span class=\"sentence\">When expressed in COS7 cells , the BCR and ABL construct with either E255K or T315I exhibited not only the resistance to <span class=\"mention-span sentence\"><sub class=\"mention-label\">Drug</sub>imatinib</span> but also the increase in activity to induce autophosphorylation as well as tyrosine phosphorylation of various cellular proteins , which included STAT5 .</span>"
      ],
      "text/plain": [
       "<IPython.core.display.HTML object>"
      ]
     },
     "metadata": {},
     "output_type": "display_data"
    },
    {
     "name": "stdout",
     "output_type": "stream",
     "text": [
      "None\n"
     ]
    },
    {
     "data": {
      "text/html": [
       "<style>.sentence {\n",
       "   font-family:\"Liberation Mono\",monospace;\n",
       "   color: #3e3f41;\n",
       "   font-size: 1em;\n",
       "   padding-bottom: 3px;\n",
       " }\n",
       " .mention-label {\n",
       "   -webkit-font-smoothing: subpixel-antialiased;\n",
       "   color: white;\n",
       "   font-weight:bold;\n",
       "   padding-left: 4px;\n",
       "   padding-right: 4px;\n",
       " }\n",
       " .mention-role {\n",
       "   -webkit-font-smoothing: subpixel-antialiased;\n",
       "   color: #ff0000;\n",
       "   font-weight:bold;\n",
       "   padding-left: 4px;\n",
       "   padding-right: 4px;\n",
       " }\n",
       " .mention-span {\n",
       "   border-radius: 50px;\n",
       "   background-color: #ffa64d;\n",
       "   -webkit-font-smoothing: subpixel-antialiased;\n",
       "   color: black;\n",
       "   padding-top: 4px;\n",
       "   padding-bottom: 4px;\n",
       "   padding-left: 4px;\n",
       "   padding-right: 8px;\n",
       " }\n",
       " .mention-arg {\n",
       "   font-weight:bold;\n",
       "   background-color:#009933;\n",
       "   color: white;\n",
       "   padding-top: 4px;\n",
       "   padding-bottom: 4px;\n",
       "   padding-left: 4px;\n",
       "   padding-right: 8px;\n",
       " }\n",
       " .mention-trigger {\n",
       "   font-weight:bold;\n",
       "   background-color:#0066ff;\n",
       "   color: white;\n",
       "   padding-top: 4px;\n",
       "   padding-bottom: 4px;\n",
       "   padding-left: 8px;\n",
       "   padding-right: 8px;\n",
       " }\n",
       "</style><span class=\"sentence\">These results raise a possibility that the major <span class=\"mention-span sentence\"><sub class=\"mention-label\">Drug</sub>imatinib</span> resistance mutations E255K and T315I may confer the growth advantage on leukemic cells to expand in the absence of selective pressure from imatinib treatment .</span>"
      ],
      "text/plain": [
       "<IPython.core.display.HTML object>"
      ]
     },
     "metadata": {},
     "output_type": "display_data"
    },
    {
     "name": "stdout",
     "output_type": "stream",
     "text": [
      "None\n"
     ]
    },
    {
     "data": {
      "text/html": [
       "<style>.sentence {\n",
       "   font-family:\"Liberation Mono\",monospace;\n",
       "   color: #3e3f41;\n",
       "   font-size: 1em;\n",
       "   padding-bottom: 3px;\n",
       " }\n",
       " .mention-label {\n",
       "   -webkit-font-smoothing: subpixel-antialiased;\n",
       "   color: white;\n",
       "   font-weight:bold;\n",
       "   padding-left: 4px;\n",
       "   padding-right: 4px;\n",
       " }\n",
       " .mention-role {\n",
       "   -webkit-font-smoothing: subpixel-antialiased;\n",
       "   color: #ff0000;\n",
       "   font-weight:bold;\n",
       "   padding-left: 4px;\n",
       "   padding-right: 4px;\n",
       " }\n",
       " .mention-span {\n",
       "   border-radius: 50px;\n",
       "   background-color: #ffa64d;\n",
       "   -webkit-font-smoothing: subpixel-antialiased;\n",
       "   color: black;\n",
       "   padding-top: 4px;\n",
       "   padding-bottom: 4px;\n",
       "   padding-left: 4px;\n",
       "   padding-right: 8px;\n",
       " }\n",
       " .mention-arg {\n",
       "   font-weight:bold;\n",
       "   background-color:#009933;\n",
       "   color: white;\n",
       "   padding-top: 4px;\n",
       "   padding-bottom: 4px;\n",
       "   padding-left: 4px;\n",
       "   padding-right: 8px;\n",
       " }\n",
       " .mention-trigger {\n",
       "   font-weight:bold;\n",
       "   background-color:#0066ff;\n",
       "   color: white;\n",
       "   padding-top: 4px;\n",
       "   padding-bottom: 4px;\n",
       "   padding-left: 8px;\n",
       "   padding-right: 8px;\n",
       " }\n",
       "</style><span class=\"sentence\">These results raise a possibility that the major imatinib resistance mutations E255K and T315I may confer the growth advantage on leukemic cells to expand in the absence of selective pressure from <span class=\"mention-span sentence\"><sub class=\"mention-label\">Drug</sub>imatinib</span> treatment .</span>"
      ],
      "text/plain": [
       "<IPython.core.display.HTML object>"
      ]
     },
     "metadata": {},
     "output_type": "display_data"
    },
    {
     "name": "stdout",
     "output_type": "stream",
     "text": [
      "None\n"
     ]
    },
    {
     "data": {
      "text/html": [
       "<style>.sentence {\n",
       "   font-family:\"Liberation Mono\",monospace;\n",
       "   color: #3e3f41;\n",
       "   font-size: 1em;\n",
       "   padding-bottom: 3px;\n",
       " }\n",
       " .mention-label {\n",
       "   -webkit-font-smoothing: subpixel-antialiased;\n",
       "   color: white;\n",
       "   font-weight:bold;\n",
       "   padding-left: 4px;\n",
       "   padding-right: 4px;\n",
       " }\n",
       " .mention-role {\n",
       "   -webkit-font-smoothing: subpixel-antialiased;\n",
       "   color: #ff0000;\n",
       "   font-weight:bold;\n",
       "   padding-left: 4px;\n",
       "   padding-right: 4px;\n",
       " }\n",
       " .mention-span {\n",
       "   border-radius: 50px;\n",
       "   background-color: #ffa64d;\n",
       "   -webkit-font-smoothing: subpixel-antialiased;\n",
       "   color: black;\n",
       "   padding-top: 4px;\n",
       "   padding-bottom: 4px;\n",
       "   padding-left: 4px;\n",
       "   padding-right: 8px;\n",
       " }\n",
       " .mention-arg {\n",
       "   font-weight:bold;\n",
       "   background-color:#009933;\n",
       "   color: white;\n",
       "   padding-top: 4px;\n",
       "   padding-bottom: 4px;\n",
       "   padding-left: 4px;\n",
       "   padding-right: 8px;\n",
       " }\n",
       " .mention-trigger {\n",
       "   font-weight:bold;\n",
       "   background-color:#0066ff;\n",
       "   color: white;\n",
       "   padding-top: 4px;\n",
       "   padding-bottom: 4px;\n",
       "   padding-left: 8px;\n",
       "   padding-right: 8px;\n",
       " }\n",
       "</style><span class=\"sentence\">BACKGROUND : Somatic mutations in the gene for the epidermal growth factor receptor ( EGFR ) are found in adenocarcinomas of the lung and are associated with sensitivity to the kinase inhibitors <span class=\"mention-span sentence\"><sub class=\"mention-label\">Drug</sub>gefitinib</span> ( Iressa ) and erlotinib ( Tarceva ) .</span>"
      ],
      "text/plain": [
       "<IPython.core.display.HTML object>"
      ]
     },
     "metadata": {},
     "output_type": "display_data"
    },
    {
     "name": "stdout",
     "output_type": "stream",
     "text": [
      "None\n"
     ]
    },
    {
     "data": {
      "text/html": [
       "<style>.sentence {\n",
       "   font-family:\"Liberation Mono\",monospace;\n",
       "   color: #3e3f41;\n",
       "   font-size: 1em;\n",
       "   padding-bottom: 3px;\n",
       " }\n",
       " .mention-label {\n",
       "   -webkit-font-smoothing: subpixel-antialiased;\n",
       "   color: white;\n",
       "   font-weight:bold;\n",
       "   padding-left: 4px;\n",
       "   padding-right: 4px;\n",
       " }\n",
       " .mention-role {\n",
       "   -webkit-font-smoothing: subpixel-antialiased;\n",
       "   color: #ff0000;\n",
       "   font-weight:bold;\n",
       "   padding-left: 4px;\n",
       "   padding-right: 4px;\n",
       " }\n",
       " .mention-span {\n",
       "   border-radius: 50px;\n",
       "   background-color: #ffa64d;\n",
       "   -webkit-font-smoothing: subpixel-antialiased;\n",
       "   color: black;\n",
       "   padding-top: 4px;\n",
       "   padding-bottom: 4px;\n",
       "   padding-left: 4px;\n",
       "   padding-right: 8px;\n",
       " }\n",
       " .mention-arg {\n",
       "   font-weight:bold;\n",
       "   background-color:#009933;\n",
       "   color: white;\n",
       "   padding-top: 4px;\n",
       "   padding-bottom: 4px;\n",
       "   padding-left: 4px;\n",
       "   padding-right: 8px;\n",
       " }\n",
       " .mention-trigger {\n",
       "   font-weight:bold;\n",
       "   background-color:#0066ff;\n",
       "   color: white;\n",
       "   padding-top: 4px;\n",
       "   padding-bottom: 4px;\n",
       "   padding-left: 8px;\n",
       "   padding-right: 8px;\n",
       " }\n",
       "</style><span class=\"sentence\">BACKGROUND : Somatic mutations in the gene for the epidermal growth factor receptor ( EGFR ) are found in adenocarcinomas of the lung and are associated with sensitivity to the kinase inhibitors gefitinib ( Iressa ) and <span class=\"mention-span sentence\"><sub class=\"mention-label\">Drug</sub>erlotinib</span> ( Tarceva ) .</span>"
      ],
      "text/plain": [
       "<IPython.core.display.HTML object>"
      ]
     },
     "metadata": {},
     "output_type": "display_data"
    },
    {
     "name": "stdout",
     "output_type": "stream",
     "text": [
      "None\n"
     ]
    },
    {
     "data": {
      "text/html": [
       "<style>.sentence {\n",
       "   font-family:\"Liberation Mono\",monospace;\n",
       "   color: #3e3f41;\n",
       "   font-size: 1em;\n",
       "   padding-bottom: 3px;\n",
       " }\n",
       " .mention-label {\n",
       "   -webkit-font-smoothing: subpixel-antialiased;\n",
       "   color: white;\n",
       "   font-weight:bold;\n",
       "   padding-left: 4px;\n",
       "   padding-right: 4px;\n",
       " }\n",
       " .mention-role {\n",
       "   -webkit-font-smoothing: subpixel-antialiased;\n",
       "   color: #ff0000;\n",
       "   font-weight:bold;\n",
       "   padding-left: 4px;\n",
       "   padding-right: 4px;\n",
       " }\n",
       " .mention-span {\n",
       "   border-radius: 50px;\n",
       "   background-color: #ffa64d;\n",
       "   -webkit-font-smoothing: subpixel-antialiased;\n",
       "   color: black;\n",
       "   padding-top: 4px;\n",
       "   padding-bottom: 4px;\n",
       "   padding-left: 4px;\n",
       "   padding-right: 8px;\n",
       " }\n",
       " .mention-arg {\n",
       "   font-weight:bold;\n",
       "   background-color:#009933;\n",
       "   color: white;\n",
       "   padding-top: 4px;\n",
       "   padding-bottom: 4px;\n",
       "   padding-left: 4px;\n",
       "   padding-right: 8px;\n",
       " }\n",
       " .mention-trigger {\n",
       "   font-weight:bold;\n",
       "   background-color:#0066ff;\n",
       "   color: white;\n",
       "   padding-top: 4px;\n",
       "   padding-bottom: 4px;\n",
       "   padding-left: 8px;\n",
       "   padding-right: 8px;\n",
       " }\n",
       "</style><span class=\"sentence\">METHODS AND FINDINGS : We sought to determine whether mutations in KRAS could be used to further enhance prediction of response to <span class=\"mention-span sentence\"><sub class=\"mention-label\">Drug</sub>gefitinib</span> or erlotinib .</span>"
      ],
      "text/plain": [
       "<IPython.core.display.HTML object>"
      ]
     },
     "metadata": {},
     "output_type": "display_data"
    },
    {
     "name": "stdout",
     "output_type": "stream",
     "text": [
      "None\n"
     ]
    },
    {
     "data": {
      "text/html": [
       "<style>.sentence {\n",
       "   font-family:\"Liberation Mono\",monospace;\n",
       "   color: #3e3f41;\n",
       "   font-size: 1em;\n",
       "   padding-bottom: 3px;\n",
       " }\n",
       " .mention-label {\n",
       "   -webkit-font-smoothing: subpixel-antialiased;\n",
       "   color: white;\n",
       "   font-weight:bold;\n",
       "   padding-left: 4px;\n",
       "   padding-right: 4px;\n",
       " }\n",
       " .mention-role {\n",
       "   -webkit-font-smoothing: subpixel-antialiased;\n",
       "   color: #ff0000;\n",
       "   font-weight:bold;\n",
       "   padding-left: 4px;\n",
       "   padding-right: 4px;\n",
       " }\n",
       " .mention-span {\n",
       "   border-radius: 50px;\n",
       "   background-color: #ffa64d;\n",
       "   -webkit-font-smoothing: subpixel-antialiased;\n",
       "   color: black;\n",
       "   padding-top: 4px;\n",
       "   padding-bottom: 4px;\n",
       "   padding-left: 4px;\n",
       "   padding-right: 8px;\n",
       " }\n",
       " .mention-arg {\n",
       "   font-weight:bold;\n",
       "   background-color:#009933;\n",
       "   color: white;\n",
       "   padding-top: 4px;\n",
       "   padding-bottom: 4px;\n",
       "   padding-left: 4px;\n",
       "   padding-right: 8px;\n",
       " }\n",
       " .mention-trigger {\n",
       "   font-weight:bold;\n",
       "   background-color:#0066ff;\n",
       "   color: white;\n",
       "   padding-top: 4px;\n",
       "   padding-bottom: 4px;\n",
       "   padding-left: 8px;\n",
       "   padding-right: 8px;\n",
       " }\n",
       "</style><span class=\"sentence\">METHODS AND FINDINGS : We sought to determine whether mutations in KRAS could be used to further enhance prediction of response to gefitinib or <span class=\"mention-span sentence\"><sub class=\"mention-label\">Drug</sub>erlotinib</span> .</span>"
      ],
      "text/plain": [
       "<IPython.core.display.HTML object>"
      ]
     },
     "metadata": {},
     "output_type": "display_data"
    },
    {
     "name": "stdout",
     "output_type": "stream",
     "text": [
      "None\n"
     ]
    },
    {
     "data": {
      "text/html": [
       "<style>.sentence {\n",
       "   font-family:\"Liberation Mono\",monospace;\n",
       "   color: #3e3f41;\n",
       "   font-size: 1em;\n",
       "   padding-bottom: 3px;\n",
       " }\n",
       " .mention-label {\n",
       "   -webkit-font-smoothing: subpixel-antialiased;\n",
       "   color: white;\n",
       "   font-weight:bold;\n",
       "   padding-left: 4px;\n",
       "   padding-right: 4px;\n",
       " }\n",
       " .mention-role {\n",
       "   -webkit-font-smoothing: subpixel-antialiased;\n",
       "   color: #ff0000;\n",
       "   font-weight:bold;\n",
       "   padding-left: 4px;\n",
       "   padding-right: 4px;\n",
       " }\n",
       " .mention-span {\n",
       "   border-radius: 50px;\n",
       "   background-color: #ffa64d;\n",
       "   -webkit-font-smoothing: subpixel-antialiased;\n",
       "   color: black;\n",
       "   padding-top: 4px;\n",
       "   padding-bottom: 4px;\n",
       "   padding-left: 4px;\n",
       "   padding-right: 8px;\n",
       " }\n",
       " .mention-arg {\n",
       "   font-weight:bold;\n",
       "   background-color:#009933;\n",
       "   color: white;\n",
       "   padding-top: 4px;\n",
       "   padding-bottom: 4px;\n",
       "   padding-left: 4px;\n",
       "   padding-right: 8px;\n",
       " }\n",
       " .mention-trigger {\n",
       "   font-weight:bold;\n",
       "   background-color:#0066ff;\n",
       "   color: white;\n",
       "   padding-top: 4px;\n",
       "   padding-bottom: 4px;\n",
       "   padding-left: 8px;\n",
       "   padding-right: 8px;\n",
       " }\n",
       "</style><span class=\"sentence\">We screened 60 lung adenocarcinomas defined as sensitive or refractory to <span class=\"mention-span sentence\"><sub class=\"mention-label\">Drug</sub>gefitinib</span> or erlotinib for mutations in EGFR and KRAS .</span>"
      ],
      "text/plain": [
       "<IPython.core.display.HTML object>"
      ]
     },
     "metadata": {},
     "output_type": "display_data"
    },
    {
     "name": "stdout",
     "output_type": "stream",
     "text": [
      "None\n"
     ]
    },
    {
     "data": {
      "text/html": [
       "<style>.sentence {\n",
       "   font-family:\"Liberation Mono\",monospace;\n",
       "   color: #3e3f41;\n",
       "   font-size: 1em;\n",
       "   padding-bottom: 3px;\n",
       " }\n",
       " .mention-label {\n",
       "   -webkit-font-smoothing: subpixel-antialiased;\n",
       "   color: white;\n",
       "   font-weight:bold;\n",
       "   padding-left: 4px;\n",
       "   padding-right: 4px;\n",
       " }\n",
       " .mention-role {\n",
       "   -webkit-font-smoothing: subpixel-antialiased;\n",
       "   color: #ff0000;\n",
       "   font-weight:bold;\n",
       "   padding-left: 4px;\n",
       "   padding-right: 4px;\n",
       " }\n",
       " .mention-span {\n",
       "   border-radius: 50px;\n",
       "   background-color: #ffa64d;\n",
       "   -webkit-font-smoothing: subpixel-antialiased;\n",
       "   color: black;\n",
       "   padding-top: 4px;\n",
       "   padding-bottom: 4px;\n",
       "   padding-left: 4px;\n",
       "   padding-right: 8px;\n",
       " }\n",
       " .mention-arg {\n",
       "   font-weight:bold;\n",
       "   background-color:#009933;\n",
       "   color: white;\n",
       "   padding-top: 4px;\n",
       "   padding-bottom: 4px;\n",
       "   padding-left: 4px;\n",
       "   padding-right: 8px;\n",
       " }\n",
       " .mention-trigger {\n",
       "   font-weight:bold;\n",
       "   background-color:#0066ff;\n",
       "   color: white;\n",
       "   padding-top: 4px;\n",
       "   padding-bottom: 4px;\n",
       "   padding-left: 8px;\n",
       "   padding-right: 8px;\n",
       " }\n",
       "</style><span class=\"sentence\">We screened 60 lung adenocarcinomas defined as sensitive or refractory to gefitinib or <span class=\"mention-span sentence\"><sub class=\"mention-label\">Drug</sub>erlotinib</span> for mutations in EGFR and KRAS .</span>"
      ],
      "text/plain": [
       "<IPython.core.display.HTML object>"
      ]
     },
     "metadata": {},
     "output_type": "display_data"
    },
    {
     "name": "stdout",
     "output_type": "stream",
     "text": [
      "None\n"
     ]
    },
    {
     "data": {
      "text/html": [
       "<style>.sentence {\n",
       "   font-family:\"Liberation Mono\",monospace;\n",
       "   color: #3e3f41;\n",
       "   font-size: 1em;\n",
       "   padding-bottom: 3px;\n",
       " }\n",
       " .mention-label {\n",
       "   -webkit-font-smoothing: subpixel-antialiased;\n",
       "   color: white;\n",
       "   font-weight:bold;\n",
       "   padding-left: 4px;\n",
       "   padding-right: 4px;\n",
       " }\n",
       " .mention-role {\n",
       "   -webkit-font-smoothing: subpixel-antialiased;\n",
       "   color: #ff0000;\n",
       "   font-weight:bold;\n",
       "   padding-left: 4px;\n",
       "   padding-right: 4px;\n",
       " }\n",
       " .mention-span {\n",
       "   border-radius: 50px;\n",
       "   background-color: #ffa64d;\n",
       "   -webkit-font-smoothing: subpixel-antialiased;\n",
       "   color: black;\n",
       "   padding-top: 4px;\n",
       "   padding-bottom: 4px;\n",
       "   padding-left: 4px;\n",
       "   padding-right: 8px;\n",
       " }\n",
       " .mention-arg {\n",
       "   font-weight:bold;\n",
       "   background-color:#009933;\n",
       "   color: white;\n",
       "   padding-top: 4px;\n",
       "   padding-bottom: 4px;\n",
       "   padding-left: 4px;\n",
       "   padding-right: 8px;\n",
       " }\n",
       " .mention-trigger {\n",
       "   font-weight:bold;\n",
       "   background-color:#0066ff;\n",
       "   color: white;\n",
       "   padding-top: 4px;\n",
       "   padding-bottom: 4px;\n",
       "   padding-left: 8px;\n",
       "   padding-right: 8px;\n",
       " }\n",
       "</style><span class=\"sentence\">Here we report the case of a patient with EGFR-mutant , <span class=\"mention-span sentence\"><sub class=\"mention-label\">Drug</sub>gefitinib</span> responsive , advanced non-small-cell lung cancer who had a relapse after two years of complete remission during treatment with gefitinib .</span>"
      ],
      "text/plain": [
       "<IPython.core.display.HTML object>"
      ]
     },
     "metadata": {},
     "output_type": "display_data"
    },
    {
     "name": "stdout",
     "output_type": "stream",
     "text": [
      "None\n"
     ]
    },
    {
     "data": {
      "text/html": [
       "<style>.sentence {\n",
       "   font-family:\"Liberation Mono\",monospace;\n",
       "   color: #3e3f41;\n",
       "   font-size: 1em;\n",
       "   padding-bottom: 3px;\n",
       " }\n",
       " .mention-label {\n",
       "   -webkit-font-smoothing: subpixel-antialiased;\n",
       "   color: white;\n",
       "   font-weight:bold;\n",
       "   padding-left: 4px;\n",
       "   padding-right: 4px;\n",
       " }\n",
       " .mention-role {\n",
       "   -webkit-font-smoothing: subpixel-antialiased;\n",
       "   color: #ff0000;\n",
       "   font-weight:bold;\n",
       "   padding-left: 4px;\n",
       "   padding-right: 4px;\n",
       " }\n",
       " .mention-span {\n",
       "   border-radius: 50px;\n",
       "   background-color: #ffa64d;\n",
       "   -webkit-font-smoothing: subpixel-antialiased;\n",
       "   color: black;\n",
       "   padding-top: 4px;\n",
       "   padding-bottom: 4px;\n",
       "   padding-left: 4px;\n",
       "   padding-right: 8px;\n",
       " }\n",
       " .mention-arg {\n",
       "   font-weight:bold;\n",
       "   background-color:#009933;\n",
       "   color: white;\n",
       "   padding-top: 4px;\n",
       "   padding-bottom: 4px;\n",
       "   padding-left: 4px;\n",
       "   padding-right: 8px;\n",
       " }\n",
       " .mention-trigger {\n",
       "   font-weight:bold;\n",
       "   background-color:#0066ff;\n",
       "   color: white;\n",
       "   padding-top: 4px;\n",
       "   padding-bottom: 4px;\n",
       "   padding-left: 8px;\n",
       "   padding-right: 8px;\n",
       " }\n",
       "</style><span class=\"sentence\">Here we report the case of a patient with EGFR-mutant , gefitinib responsive , advanced non-small-cell lung cancer who had a relapse after two years of complete remission during treatment with <span class=\"mention-span sentence\"><sub class=\"mention-label\">Drug</sub>gefitinib</span> .</span>"
      ],
      "text/plain": [
       "<IPython.core.display.HTML object>"
      ]
     },
     "metadata": {},
     "output_type": "display_data"
    },
    {
     "name": "stdout",
     "output_type": "stream",
     "text": [
      "None\n"
     ]
    },
    {
     "data": {
      "text/html": [
       "<style>.sentence {\n",
       "   font-family:\"Liberation Mono\",monospace;\n",
       "   color: #3e3f41;\n",
       "   font-size: 1em;\n",
       "   padding-bottom: 3px;\n",
       " }\n",
       " .mention-label {\n",
       "   -webkit-font-smoothing: subpixel-antialiased;\n",
       "   color: white;\n",
       "   font-weight:bold;\n",
       "   padding-left: 4px;\n",
       "   padding-right: 4px;\n",
       " }\n",
       " .mention-role {\n",
       "   -webkit-font-smoothing: subpixel-antialiased;\n",
       "   color: #ff0000;\n",
       "   font-weight:bold;\n",
       "   padding-left: 4px;\n",
       "   padding-right: 4px;\n",
       " }\n",
       " .mention-span {\n",
       "   border-radius: 50px;\n",
       "   background-color: #ffa64d;\n",
       "   -webkit-font-smoothing: subpixel-antialiased;\n",
       "   color: black;\n",
       "   padding-top: 4px;\n",
       "   padding-bottom: 4px;\n",
       "   padding-left: 4px;\n",
       "   padding-right: 8px;\n",
       " }\n",
       " .mention-arg {\n",
       "   font-weight:bold;\n",
       "   background-color:#009933;\n",
       "   color: white;\n",
       "   padding-top: 4px;\n",
       "   padding-bottom: 4px;\n",
       "   padding-left: 4px;\n",
       "   padding-right: 8px;\n",
       " }\n",
       " .mention-trigger {\n",
       "   font-weight:bold;\n",
       "   background-color:#0066ff;\n",
       "   color: white;\n",
       "   padding-top: 4px;\n",
       "   padding-bottom: 4px;\n",
       "   padding-left: 8px;\n",
       "   padding-right: 8px;\n",
       " }\n",
       "</style><span class=\"sentence\">Structural modeling and biochemical studies showed that this second mutation led to <span class=\"mention-span sentence\"><sub class=\"mention-label\">Drug</sub>gefitinib</span> resistance .</span>"
      ],
      "text/plain": [
       "<IPython.core.display.HTML object>"
      ]
     },
     "metadata": {},
     "output_type": "display_data"
    },
    {
     "name": "stdout",
     "output_type": "stream",
     "text": [
      "None\n"
     ]
    },
    {
     "data": {
      "text/html": [
       "<style>.sentence {\n",
       "   font-family:\"Liberation Mono\",monospace;\n",
       "   color: #3e3f41;\n",
       "   font-size: 1em;\n",
       "   padding-bottom: 3px;\n",
       " }\n",
       " .mention-label {\n",
       "   -webkit-font-smoothing: subpixel-antialiased;\n",
       "   color: white;\n",
       "   font-weight:bold;\n",
       "   padding-left: 4px;\n",
       "   padding-right: 4px;\n",
       " }\n",
       " .mention-role {\n",
       "   -webkit-font-smoothing: subpixel-antialiased;\n",
       "   color: #ff0000;\n",
       "   font-weight:bold;\n",
       "   padding-left: 4px;\n",
       "   padding-right: 4px;\n",
       " }\n",
       " .mention-span {\n",
       "   border-radius: 50px;\n",
       "   background-color: #ffa64d;\n",
       "   -webkit-font-smoothing: subpixel-antialiased;\n",
       "   color: black;\n",
       "   padding-top: 4px;\n",
       "   padding-bottom: 4px;\n",
       "   padding-left: 4px;\n",
       "   padding-right: 8px;\n",
       " }\n",
       " .mention-arg {\n",
       "   font-weight:bold;\n",
       "   background-color:#009933;\n",
       "   color: white;\n",
       "   padding-top: 4px;\n",
       "   padding-bottom: 4px;\n",
       "   padding-left: 4px;\n",
       "   padding-right: 8px;\n",
       " }\n",
       " .mention-trigger {\n",
       "   font-weight:bold;\n",
       "   background-color:#0066ff;\n",
       "   color: white;\n",
       "   padding-top: 4px;\n",
       "   padding-bottom: 4px;\n",
       "   padding-left: 8px;\n",
       "   padding-right: 8px;\n",
       " }\n",
       "</style><span class=\"sentence\">BACKGROUND : Lung adenocarcinomas from patients who respond to the tyrosine kinase inhibitors <span class=\"mention-span sentence\"><sub class=\"mention-label\">Drug</sub>gefitinib</span> ( Iressa ) or erlotinib ( Tarceva ) usually harbor somatic gain-of-function mutations in exons encoding the kinase domain of the epidermal growth factor receptor ( EGFR ) .</span>"
      ],
      "text/plain": [
       "<IPython.core.display.HTML object>"
      ]
     },
     "metadata": {},
     "output_type": "display_data"
    },
    {
     "name": "stdout",
     "output_type": "stream",
     "text": [
      "None\n"
     ]
    },
    {
     "data": {
      "text/html": [
       "<style>.sentence {\n",
       "   font-family:\"Liberation Mono\",monospace;\n",
       "   color: #3e3f41;\n",
       "   font-size: 1em;\n",
       "   padding-bottom: 3px;\n",
       " }\n",
       " .mention-label {\n",
       "   -webkit-font-smoothing: subpixel-antialiased;\n",
       "   color: white;\n",
       "   font-weight:bold;\n",
       "   padding-left: 4px;\n",
       "   padding-right: 4px;\n",
       " }\n",
       " .mention-role {\n",
       "   -webkit-font-smoothing: subpixel-antialiased;\n",
       "   color: #ff0000;\n",
       "   font-weight:bold;\n",
       "   padding-left: 4px;\n",
       "   padding-right: 4px;\n",
       " }\n",
       " .mention-span {\n",
       "   border-radius: 50px;\n",
       "   background-color: #ffa64d;\n",
       "   -webkit-font-smoothing: subpixel-antialiased;\n",
       "   color: black;\n",
       "   padding-top: 4px;\n",
       "   padding-bottom: 4px;\n",
       "   padding-left: 4px;\n",
       "   padding-right: 8px;\n",
       " }\n",
       " .mention-arg {\n",
       "   font-weight:bold;\n",
       "   background-color:#009933;\n",
       "   color: white;\n",
       "   padding-top: 4px;\n",
       "   padding-bottom: 4px;\n",
       "   padding-left: 4px;\n",
       "   padding-right: 8px;\n",
       " }\n",
       " .mention-trigger {\n",
       "   font-weight:bold;\n",
       "   background-color:#0066ff;\n",
       "   color: white;\n",
       "   padding-top: 4px;\n",
       "   padding-bottom: 4px;\n",
       "   padding-left: 8px;\n",
       "   padding-right: 8px;\n",
       " }\n",
       "</style><span class=\"sentence\">BACKGROUND : Lung adenocarcinomas from patients who respond to the tyrosine kinase inhibitors gefitinib ( Iressa ) or <span class=\"mention-span sentence\"><sub class=\"mention-label\">Drug</sub>erlotinib</span> ( Tarceva ) usually harbor somatic gain-of-function mutations in exons encoding the kinase domain of the epidermal growth factor receptor ( EGFR ) .</span>"
      ],
      "text/plain": [
       "<IPython.core.display.HTML object>"
      ]
     },
     "metadata": {},
     "output_type": "display_data"
    },
    {
     "name": "stdout",
     "output_type": "stream",
     "text": [
      "None\n"
     ]
    },
    {
     "data": {
      "text/html": [
       "<style>.sentence {\n",
       "   font-family:\"Liberation Mono\",monospace;\n",
       "   color: #3e3f41;\n",
       "   font-size: 1em;\n",
       "   padding-bottom: 3px;\n",
       " }\n",
       " .mention-label {\n",
       "   -webkit-font-smoothing: subpixel-antialiased;\n",
       "   color: white;\n",
       "   font-weight:bold;\n",
       "   padding-left: 4px;\n",
       "   padding-right: 4px;\n",
       " }\n",
       " .mention-role {\n",
       "   -webkit-font-smoothing: subpixel-antialiased;\n",
       "   color: #ff0000;\n",
       "   font-weight:bold;\n",
       "   padding-left: 4px;\n",
       "   padding-right: 4px;\n",
       " }\n",
       " .mention-span {\n",
       "   border-radius: 50px;\n",
       "   background-color: #ffa64d;\n",
       "   -webkit-font-smoothing: subpixel-antialiased;\n",
       "   color: black;\n",
       "   padding-top: 4px;\n",
       "   padding-bottom: 4px;\n",
       "   padding-left: 4px;\n",
       "   padding-right: 8px;\n",
       " }\n",
       " .mention-arg {\n",
       "   font-weight:bold;\n",
       "   background-color:#009933;\n",
       "   color: white;\n",
       "   padding-top: 4px;\n",
       "   padding-bottom: 4px;\n",
       "   padding-left: 4px;\n",
       "   padding-right: 8px;\n",
       " }\n",
       " .mention-trigger {\n",
       "   font-weight:bold;\n",
       "   background-color:#0066ff;\n",
       "   color: white;\n",
       "   padding-top: 4px;\n",
       "   padding-bottom: 4px;\n",
       "   padding-left: 8px;\n",
       "   padding-right: 8px;\n",
       " }\n",
       "</style><span class=\"sentence\">METHODS AND FINDINGS : We show that in two of five patients with acquired resistance to <span class=\"mention-span sentence\"><sub class=\"mention-label\">Drug</sub>gefitinib</span> or erlotinib , progressing tumors contain , in addition to a primary drug sensitive mutation in EGFR , a secondary mutation in exon 20 , which leads to substitution of methionine for threonine at position 790 ( T790M ) in the kinase domain .</span>"
      ],
      "text/plain": [
       "<IPython.core.display.HTML object>"
      ]
     },
     "metadata": {},
     "output_type": "display_data"
    },
    {
     "name": "stdout",
     "output_type": "stream",
     "text": [
      "None\n"
     ]
    },
    {
     "data": {
      "text/html": [
       "<style>.sentence {\n",
       "   font-family:\"Liberation Mono\",monospace;\n",
       "   color: #3e3f41;\n",
       "   font-size: 1em;\n",
       "   padding-bottom: 3px;\n",
       " }\n",
       " .mention-label {\n",
       "   -webkit-font-smoothing: subpixel-antialiased;\n",
       "   color: white;\n",
       "   font-weight:bold;\n",
       "   padding-left: 4px;\n",
       "   padding-right: 4px;\n",
       " }\n",
       " .mention-role {\n",
       "   -webkit-font-smoothing: subpixel-antialiased;\n",
       "   color: #ff0000;\n",
       "   font-weight:bold;\n",
       "   padding-left: 4px;\n",
       "   padding-right: 4px;\n",
       " }\n",
       " .mention-span {\n",
       "   border-radius: 50px;\n",
       "   background-color: #ffa64d;\n",
       "   -webkit-font-smoothing: subpixel-antialiased;\n",
       "   color: black;\n",
       "   padding-top: 4px;\n",
       "   padding-bottom: 4px;\n",
       "   padding-left: 4px;\n",
       "   padding-right: 8px;\n",
       " }\n",
       " .mention-arg {\n",
       "   font-weight:bold;\n",
       "   background-color:#009933;\n",
       "   color: white;\n",
       "   padding-top: 4px;\n",
       "   padding-bottom: 4px;\n",
       "   padding-left: 4px;\n",
       "   padding-right: 8px;\n",
       " }\n",
       " .mention-trigger {\n",
       "   font-weight:bold;\n",
       "   background-color:#0066ff;\n",
       "   color: white;\n",
       "   padding-top: 4px;\n",
       "   padding-bottom: 4px;\n",
       "   padding-left: 8px;\n",
       "   padding-right: 8px;\n",
       " }\n",
       "</style><span class=\"sentence\">METHODS AND FINDINGS : We show that in two of five patients with acquired resistance to gefitinib or <span class=\"mention-span sentence\"><sub class=\"mention-label\">Drug</sub>erlotinib</span> , progressing tumors contain , in addition to a primary drug sensitive mutation in EGFR , a secondary mutation in exon 20 , which leads to substitution of methionine for threonine at position 790 ( T790M ) in the kinase domain .</span>"
      ],
      "text/plain": [
       "<IPython.core.display.HTML object>"
      ]
     },
     "metadata": {},
     "output_type": "display_data"
    },
    {
     "name": "stdout",
     "output_type": "stream",
     "text": [
      "None\n"
     ]
    },
    {
     "data": {
      "text/html": [
       "<style>.sentence {\n",
       "   font-family:\"Liberation Mono\",monospace;\n",
       "   color: #3e3f41;\n",
       "   font-size: 1em;\n",
       "   padding-bottom: 3px;\n",
       " }\n",
       " .mention-label {\n",
       "   -webkit-font-smoothing: subpixel-antialiased;\n",
       "   color: white;\n",
       "   font-weight:bold;\n",
       "   padding-left: 4px;\n",
       "   padding-right: 4px;\n",
       " }\n",
       " .mention-role {\n",
       "   -webkit-font-smoothing: subpixel-antialiased;\n",
       "   color: #ff0000;\n",
       "   font-weight:bold;\n",
       "   padding-left: 4px;\n",
       "   padding-right: 4px;\n",
       " }\n",
       " .mention-span {\n",
       "   border-radius: 50px;\n",
       "   background-color: #ffa64d;\n",
       "   -webkit-font-smoothing: subpixel-antialiased;\n",
       "   color: black;\n",
       "   padding-top: 4px;\n",
       "   padding-bottom: 4px;\n",
       "   padding-left: 4px;\n",
       "   padding-right: 8px;\n",
       " }\n",
       " .mention-arg {\n",
       "   font-weight:bold;\n",
       "   background-color:#009933;\n",
       "   color: white;\n",
       "   padding-top: 4px;\n",
       "   padding-bottom: 4px;\n",
       "   padding-left: 4px;\n",
       "   padding-right: 8px;\n",
       " }\n",
       " .mention-trigger {\n",
       "   font-weight:bold;\n",
       "   background-color:#0066ff;\n",
       "   color: white;\n",
       "   padding-top: 4px;\n",
       "   padding-bottom: 4px;\n",
       "   padding-left: 8px;\n",
       "   padding-right: 8px;\n",
       " }\n",
       "</style><span class=\"sentence\">Tumor cells from a sixth patient with a drug sensitive EGFR mutation whose tumor progressed on adjuvant <span class=\"mention-span sentence\"><sub class=\"mention-label\">Drug</sub>gefitinib</span> after complete resection also contained the T790M mutation .</span>"
      ],
      "text/plain": [
       "<IPython.core.display.HTML object>"
      ]
     },
     "metadata": {},
     "output_type": "display_data"
    },
    {
     "name": "stdout",
     "output_type": "stream",
     "text": [
      "None\n"
     ]
    },
    {
     "data": {
      "text/html": [
       "<style>.sentence {\n",
       "   font-family:\"Liberation Mono\",monospace;\n",
       "   color: #3e3f41;\n",
       "   font-size: 1em;\n",
       "   padding-bottom: 3px;\n",
       " }\n",
       " .mention-label {\n",
       "   -webkit-font-smoothing: subpixel-antialiased;\n",
       "   color: white;\n",
       "   font-weight:bold;\n",
       "   padding-left: 4px;\n",
       "   padding-right: 4px;\n",
       " }\n",
       " .mention-role {\n",
       "   -webkit-font-smoothing: subpixel-antialiased;\n",
       "   color: #ff0000;\n",
       "   font-weight:bold;\n",
       "   padding-left: 4px;\n",
       "   padding-right: 4px;\n",
       " }\n",
       " .mention-span {\n",
       "   border-radius: 50px;\n",
       "   background-color: #ffa64d;\n",
       "   -webkit-font-smoothing: subpixel-antialiased;\n",
       "   color: black;\n",
       "   padding-top: 4px;\n",
       "   padding-bottom: 4px;\n",
       "   padding-left: 4px;\n",
       "   padding-right: 8px;\n",
       " }\n",
       " .mention-arg {\n",
       "   font-weight:bold;\n",
       "   background-color:#009933;\n",
       "   color: white;\n",
       "   padding-top: 4px;\n",
       "   padding-bottom: 4px;\n",
       "   padding-left: 4px;\n",
       "   padding-right: 8px;\n",
       " }\n",
       " .mention-trigger {\n",
       "   font-weight:bold;\n",
       "   background-color:#0066ff;\n",
       "   color: white;\n",
       "   padding-top: 4px;\n",
       "   padding-bottom: 4px;\n",
       "   padding-left: 8px;\n",
       "   padding-right: 8px;\n",
       " }\n",
       "</style><span class=\"sentence\">Biochemical analyses of transfected cells and growth inhibition studies with lung cancer cell lines demonstrate that the T790M mutation confers resistance to EGFR mutants usually sensitive to either <span class=\"mention-span sentence\"><sub class=\"mention-label\">Drug</sub>gefitinib</span> or erlotinib .</span>"
      ],
      "text/plain": [
       "<IPython.core.display.HTML object>"
      ]
     },
     "metadata": {},
     "output_type": "display_data"
    },
    {
     "name": "stdout",
     "output_type": "stream",
     "text": [
      "None\n"
     ]
    },
    {
     "data": {
      "text/html": [
       "<style>.sentence {\n",
       "   font-family:\"Liberation Mono\",monospace;\n",
       "   color: #3e3f41;\n",
       "   font-size: 1em;\n",
       "   padding-bottom: 3px;\n",
       " }\n",
       " .mention-label {\n",
       "   -webkit-font-smoothing: subpixel-antialiased;\n",
       "   color: white;\n",
       "   font-weight:bold;\n",
       "   padding-left: 4px;\n",
       "   padding-right: 4px;\n",
       " }\n",
       " .mention-role {\n",
       "   -webkit-font-smoothing: subpixel-antialiased;\n",
       "   color: #ff0000;\n",
       "   font-weight:bold;\n",
       "   padding-left: 4px;\n",
       "   padding-right: 4px;\n",
       " }\n",
       " .mention-span {\n",
       "   border-radius: 50px;\n",
       "   background-color: #ffa64d;\n",
       "   -webkit-font-smoothing: subpixel-antialiased;\n",
       "   color: black;\n",
       "   padding-top: 4px;\n",
       "   padding-bottom: 4px;\n",
       "   padding-left: 4px;\n",
       "   padding-right: 8px;\n",
       " }\n",
       " .mention-arg {\n",
       "   font-weight:bold;\n",
       "   background-color:#009933;\n",
       "   color: white;\n",
       "   padding-top: 4px;\n",
       "   padding-bottom: 4px;\n",
       "   padding-left: 4px;\n",
       "   padding-right: 8px;\n",
       " }\n",
       " .mention-trigger {\n",
       "   font-weight:bold;\n",
       "   background-color:#0066ff;\n",
       "   color: white;\n",
       "   padding-top: 4px;\n",
       "   padding-bottom: 4px;\n",
       "   padding-left: 8px;\n",
       "   padding-right: 8px;\n",
       " }\n",
       "</style><span class=\"sentence\">Biochemical analyses of transfected cells and growth inhibition studies with lung cancer cell lines demonstrate that the T790M mutation confers resistance to EGFR mutants usually sensitive to either gefitinib or <span class=\"mention-span sentence\"><sub class=\"mention-label\">Drug</sub>erlotinib</span> .</span>"
      ],
      "text/plain": [
       "<IPython.core.display.HTML object>"
      ]
     },
     "metadata": {},
     "output_type": "display_data"
    },
    {
     "name": "stdout",
     "output_type": "stream",
     "text": [
      "None\n"
     ]
    },
    {
     "data": {
      "text/html": [
       "<style>.sentence {\n",
       "   font-family:\"Liberation Mono\",monospace;\n",
       "   color: #3e3f41;\n",
       "   font-size: 1em;\n",
       "   padding-bottom: 3px;\n",
       " }\n",
       " .mention-label {\n",
       "   -webkit-font-smoothing: subpixel-antialiased;\n",
       "   color: white;\n",
       "   font-weight:bold;\n",
       "   padding-left: 4px;\n",
       "   padding-right: 4px;\n",
       " }\n",
       " .mention-role {\n",
       "   -webkit-font-smoothing: subpixel-antialiased;\n",
       "   color: #ff0000;\n",
       "   font-weight:bold;\n",
       "   padding-left: 4px;\n",
       "   padding-right: 4px;\n",
       " }\n",
       " .mention-span {\n",
       "   border-radius: 50px;\n",
       "   background-color: #ffa64d;\n",
       "   -webkit-font-smoothing: subpixel-antialiased;\n",
       "   color: black;\n",
       "   padding-top: 4px;\n",
       "   padding-bottom: 4px;\n",
       "   padding-left: 4px;\n",
       "   padding-right: 8px;\n",
       " }\n",
       " .mention-arg {\n",
       "   font-weight:bold;\n",
       "   background-color:#009933;\n",
       "   color: white;\n",
       "   padding-top: 4px;\n",
       "   padding-bottom: 4px;\n",
       "   padding-left: 4px;\n",
       "   padding-right: 8px;\n",
       " }\n",
       " .mention-trigger {\n",
       "   font-weight:bold;\n",
       "   background-color:#0066ff;\n",
       "   color: white;\n",
       "   padding-top: 4px;\n",
       "   padding-bottom: 4px;\n",
       "   padding-left: 8px;\n",
       "   padding-right: 8px;\n",
       " }\n",
       "</style><span class=\"sentence\">Interestingly , a mutation analogous to T790M has been observed in other kinases with acquired resistance to another kinase inhibitor , <span class=\"mention-span sentence\"><sub class=\"mention-label\">Drug</sub>imatinib</span> ( Gleevec ) .</span>"
      ],
      "text/plain": [
       "<IPython.core.display.HTML object>"
      ]
     },
     "metadata": {},
     "output_type": "display_data"
    }
   ],
   "source": [
    "# display_mentions(mentions)\n",
    "\n",
    "# displaying only drug matches for hannah's druggy purposes\n",
    "mention_subset = [m for m in mentions if m.matches('Drug')]\n",
    "display_mentions(mention_subset)"
   ]
  },
  {
   "cell_type": "code",
   "execution_count": null,
   "metadata": {
    "collapsed": true
   },
   "outputs": [],
   "source": []
  },
  {
   "cell_type": "code",
   "execution_count": null,
   "metadata": {
    "collapsed": false
   },
   "outputs": [],
   "source": []
  },
  {
   "cell_type": "code",
   "execution_count": null,
   "metadata": {
    "collapsed": true
   },
   "outputs": [],
   "source": []
  }
 ],
 "metadata": {
  "kernelspec": {
   "display_name": "Python 3",
   "language": "python",
   "name": "python3"
  },
  "language_info": {
   "codemirror_mode": {
    "name": "ipython",
    "version": 3
   },
   "file_extension": ".py",
   "mimetype": "text/x-python",
   "name": "python",
   "nbconvert_exporter": "python",
   "pygments_lexer": "ipython3",
   "version": "3.5.2"
  }
 },
 "nbformat": 4,
 "nbformat_minor": 2
}
